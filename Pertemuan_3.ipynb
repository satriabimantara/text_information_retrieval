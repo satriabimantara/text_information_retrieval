{
 "cells": [
  {
   "cell_type": "markdown",
   "metadata": {
    "id": "I6jSrQG4fnuJ"
   },
   "source": [
    "<center><strong>Sistem Temu Kembali Informasi</strong><br />\n",
    "<strong><font color=\"blue\">Semester Gasal T.A. 2020/2021</font></strong><br />\n",
    "</center>\n",
    "\n",
    "<strong>Outline pertemuan minggu ke-3</strong><br />\n",
    "<li> Membaca dokumen dari file </li>\n",
    "<li> Representasi vektor </li>\n",
    "<li> Pembobotan</li>\n"
   ]
  },
  {
   "cell_type": "markdown",
   "metadata": {
    "id": "A7cAT99WfnuW"
   },
   "source": [
    "### Membaca dokumen dari file\n",
    "<p> Untuk membaca dokumen dari file dapat dilakukan dengan berbagai macam cara, bergantung pada format dari dokumen tersebut </p>\n",
    "\n",
    "<p><img alt=\"\" src=\"figures/2_importing_Files.jpg\" style=\"height:400px; width:510px\" /><br />\n",
    "[<a href=\"http://www.clearcounsel.com/what-happens-to-your-digital-property-after-you-die/\" target=\"_blank\"><strong>Image Source</strong></a>]</p>\n",
    "\n",
    "<p> Berikut ini merupakan list library untuk memparsing dokumen dalam berbagai format </p>\n",
    "<p>* <a href=\"https://textract.readthedocs.io/en/stable/&amp;nbsp\" target=\"_blank\">https://textract.readthedocs.io/</a> <img alt=\"\" src=\"figures/2_textract.png\" style=\"height: 239px; width: 600px;\" /></p>\n"
   ]
  },
  {
   "cell_type": "code",
   "execution_count": 2,
   "metadata": {
    "colab": {
     "base_uri": "https://localhost:8080/"
    },
    "executionInfo": {
     "elapsed": 24590,
     "status": "ok",
     "timestamp": 1614832236348,
     "user": {
      "displayName": "Afif Fadhlurrahman",
      "photoUrl": "https://lh3.googleusercontent.com/a-/AOh14GgVG6nTOWdjTaNid90Wc4DFAhsSq2R7ERjFx38n=s64",
      "userId": "01190859154193556059"
     },
     "user_tz": -420
    },
    "id": "oUdh-8jpgARR",
    "outputId": "df195fc7-bd89-403b-a8f2-aeb8a666b6a3"
   },
   "outputs": [
    {
     "name": "stdout",
     "output_type": "stream",
     "text": [
      "Mounted at /content/drive\n"
     ]
    }
   ],
   "source": [
    "from google.colab import drive\n",
    "drive.mount('/content/drive')"
   ]
  },
  {
   "cell_type": "code",
   "execution_count": 6,
   "metadata": {
    "executionInfo": {
     "elapsed": 939,
     "status": "ok",
     "timestamp": 1614835018299,
     "user": {
      "displayName": "Afif Fadhlurrahman",
      "photoUrl": "https://lh3.googleusercontent.com/a-/AOh14GgVG6nTOWdjTaNid90Wc4DFAhsSq2R7ERjFx38n=s64",
      "userId": "01190859154193556059"
     },
     "user_tz": -420
    },
    "id": "H8uyof6-fnuX"
   },
   "outputs": [],
   "source": [
    "# Membaca dokumen dengan format .txt\n",
    "import os\n",
    "\n",
    "src_name = \"the_matrix_synopsis.txt\"\n",
    "path = \"drive/My Drive/STKI/data\"\n",
    "src_path = os.path.join(path, src_name)\n",
    "\n",
    "docs = list()\n",
    "with open(src_path, 'r', encoding=\"utf-8\") as fin:\n",
    "    # membaca seluruh isi dari dokumen\n",
    "    data = fin.readlines()\n",
    "    \n",
    "    # menghilangkan newline (\"\\n\") dan baris yang kosong\n",
    "    for d in data:\n",
    "        d_strip = d.strip()\n",
    "        \n",
    "        if d_strip:\n",
    "            docs.append(d_strip)"
   ]
  },
  {
   "cell_type": "code",
   "execution_count": 7,
   "metadata": {
    "colab": {
     "base_uri": "https://localhost:8080/"
    },
    "executionInfo": {
     "elapsed": 966,
     "status": "ok",
     "timestamp": 1614835022501,
     "user": {
      "displayName": "Afif Fadhlurrahman",
      "photoUrl": "https://lh3.googleusercontent.com/a-/AOh14GgVG6nTOWdjTaNid90Wc4DFAhsSq2R7ERjFx38n=s64",
      "userId": "01190859154193556059"
     },
     "user_tz": -420
    },
    "id": "sR3R7KUefnuZ",
    "outputId": "6e1b5946-69e2-4767-bf41-89c605301549"
   },
   "outputs": [
    {
     "name": "stdout",
     "output_type": "stream",
     "text": [
      "Panjang dokumen:  97\n",
      "A phone rings and text appears on the screen: \"Call trans opt: received. 2-19-98 13:24:18 REC: Log>\" As a conversation takes place between Trinity (Carrie-Anne Moss) and Cypher (Joe Pantoliano), two free humans, a table of random green numbers are being scanned and individual numbers selected, creating a series of digits not unlike an ordinary phone number, as if a code is being deciphered or a call is being traced.\n"
     ]
    }
   ],
   "source": [
    "# Mengecek banyaknya dokumen (note: 1 dokumen = 1 baris)\n",
    "print(\"Panjang dokumen: \", len(docs))\n",
    "\n",
    "# Mengakses isi dari dokumen dengan indeks 1\n",
    "print(docs[1])"
   ]
  },
  {
   "cell_type": "code",
   "execution_count": 9,
   "metadata": {
    "colab": {
     "base_uri": "https://localhost:8080/"
    },
    "executionInfo": {
     "elapsed": 1231,
     "status": "ok",
     "timestamp": 1614835038272,
     "user": {
      "displayName": "Afif Fadhlurrahman",
      "photoUrl": "https://lh3.googleusercontent.com/a-/AOh14GgVG6nTOWdjTaNid90Wc4DFAhsSq2R7ERjFx38n=s64",
      "userId": "01190859154193556059"
     },
     "user_tz": -420
    },
    "id": "5d_rD0TofnuZ",
    "outputId": "f9e0dfcf-1fe5-4408-85d4-f3c5eb3fbce5"
   },
   "outputs": [
    {
     "name": "stdout",
     "output_type": "stream",
     "text": [
      "           Date       Screen Name  ... Timezone Profile Image\n",
      "0     6/27/2018     @BachtiarLiem  ...      NaN          View\n",
      "1     6/27/2018  @wikipediaberita  ...      NaN          View\n",
      "2     6/27/2018     @kompaskampus  ...      NaN          View\n",
      "3     6/27/2018     @GidiyonDavid  ...      NaN          View\n",
      "4     6/27/2018  @2019Ada_PilPres  ...      NaN          View\n",
      "...         ...               ...  ...      ...           ...\n",
      "2419  6/27/2018      @ahmadvision  ...      NaN          View\n",
      "2420  6/27/2018  @HorasSumutNews8  ...      NaN          View\n",
      "2421  6/27/2018      @serambinews  ...      NaN          View\n",
      "2422  6/27/2018      @inibukanedo  ...      NaN          View\n",
      "2423  6/27/2018      @tareqAzizii  ...      NaN          View\n",
      "\n",
      "[2424 rows x 21 columns]\n"
     ]
    }
   ],
   "source": [
    "# Membaca dokumen dengan format .csv\n",
    "import os\n",
    "import pandas as pd\n",
    "\n",
    "src_name = \"data_tweet.csv\"\n",
    "path = \"drive/My Drive/STKI/data\"\n",
    "src_path = os.path.join(path, src_name)\n",
    "\n",
    "dff = pd.read_csv(src_path)\n",
    "\n",
    "print(dff)"
   ]
  },
  {
   "cell_type": "markdown",
   "metadata": {
    "id": "uQYjiZ4_fnua"
   },
   "source": [
    "<h3 id=\"Json-Files\">Json Files</h3>\n",
    "\n",
    "<ul>\n",
    "\t<li>Populer digunakan untuk data dari Media Sosial dan NoSQL</li>\n",
    "\t<li>Portable: File Json memuat nama variabel dan nilainya (tidak seperti XML)</li>\n",
    "\t<li>Plain Text</li>\n",
    "\t<li>Schemaless: Setiap record tidak harus memiliki jumlah field yang tetap seperti csv</li>\n",
    "\t<li>JSON isomorfis dengan &quot;Dictionary&quot; di Python</li>\n",
    "\t<li>Contoh struktur file json:</li>\n",
    "</ul>\n",
    "\n",
    "<p><img alt=\"\" src=\"figures/json.png\" style=\"width: 200px; height: 211px;\" /></p>\n"
   ]
  },
  {
   "cell_type": "code",
   "execution_count": 10,
   "metadata": {
    "colab": {
     "base_uri": "https://localhost:8080/"
    },
    "executionInfo": {
     "elapsed": 802,
     "status": "ok",
     "timestamp": 1614835050655,
     "user": {
      "displayName": "Afif Fadhlurrahman",
      "photoUrl": "https://lh3.googleusercontent.com/a-/AOh14GgVG6nTOWdjTaNid90Wc4DFAhsSq2R7ERjFx38n=s64",
      "userId": "01190859154193556059"
     },
     "user_tz": -420
    },
    "id": "kVzK549Ufnub",
    "outputId": "b88e94a8-9ed0-4b94-ca80-f5a580eff15e"
   },
   "outputs": [
    {
     "data": {
      "text/plain": [
       "{'mobil': 'BMW', 'motor': 'Forza', 'nama': 'Mukidi', 'umur': 19}"
      ]
     },
     "execution_count": 10,
     "metadata": {
      "tags": []
     },
     "output_type": "execute_result"
    }
   ],
   "source": [
    "# Membaca dokumen dengan format .json\n",
    "import json\n",
    "\n",
    "src_name = \"contoh.json\"\n",
    "path = \"drive/My Drive/STKI/data\"\n",
    "src_path = os.path.join(path, src_name)\n",
    "\n",
    "with open(src_path, 'r', encoding=\"utf-8\", errors='ignore') as fin:\n",
    "    data = json.load(fin)\n",
    "    \n",
    "data"
   ]
  },
  {
   "cell_type": "code",
   "execution_count": 11,
   "metadata": {
    "colab": {
     "base_uri": "https://localhost:8080/",
     "height": 188
    },
    "executionInfo": {
     "elapsed": 4605,
     "status": "ok",
     "timestamp": 1614835058794,
     "user": {
      "displayName": "Afif Fadhlurrahman",
      "photoUrl": "https://lh3.googleusercontent.com/a-/AOh14GgVG6nTOWdjTaNid90Wc4DFAhsSq2R7ERjFx38n=s64",
      "userId": "01190859154193556059"
     },
     "user_tz": -420
    },
    "id": "9Vw_hikrfnuc",
    "outputId": "8f97756a-8ce8-42e3-cfec-524dfc4fa724"
   },
   "outputs": [
    {
     "data": {
      "application/vnd.google.colaboratory.intrinsic+json": {
       "type": "string"
      },
      "text/plain": [
       "'\\n\\n\\n\\n\\nLaboratorium Komputasi Cerdas dan Visi - Departemen Teknik Informatika\\n\\n\\n\\n\\n\\n\\n\\n\\n\\n\\n\\n\\n\\n\\n{\"@context\":\"https://schema.org\",\"@graph\":[{\"@type\":\"WebSite\",\"@id\":\"https://www.its.ac.id/informatika/#website\",\"url\":\"https://www.its.ac.id/informatika/\",\"name\":\"Departemen Teknik Informatika\",\"potentialAction\":{\"@type\":\"SearchAction\",\"target\":\"https://www.its.ac.id/informatika/?s={search_term_string}\",\"query-input\":\"required name=search_term_string\"}},{\"@type\":\"WebPage\",\"@id\":\"https://www.its.ac.id/informatika/fasilitas/laboratorium/laboratorium-komputasi-cerdas-dan-visi/#webpage\",\"url\":\"https://www.its.ac.id/informatika/fasilitas/laboratorium/laboratorium-komputasi-cerdas-dan-visi/\",\"inLanguage\":\"id-ID\",\"name\":\"Laboratorium Komputasi Cerdas dan Visi - Departemen Teknik Informatika\",\"isPartOf\":{\"@id\":\"https://www.its.ac.id/informatika/#website\"},\"datePublished\":\"2018-09-13T04:26:58+00:00\",\"dateModified\":\"2020-10-12T03:15:16+00:00\"}]}\\n\\n\\n\\n\\n\\n\\t\\t\\twindow._wpemojiSettings = {\"baseUrl\":\"https:\\\\/\\\\/s.w.org\\\\/images\\\\/core\\\\/emoji\\\\/12.0.0-1\\\\/72x72\\\\/\",\"ext\":\".png\",\"svgUrl\":\"https:\\\\/\\\\/s.w.org\\\\/images\\\\/core\\\\/emoji\\\\/12.0.0-1\\\\/svg\\\\/\",\"svgExt\":\".svg\",\"source\":{\"concatemoji\":\"https:\\\\/\\\\/www.its.ac.id\\\\/informatika\\\\/wp-includes\\\\/js\\\\/wp-emoji-release.min.js?ver=5.2.4\"}};\\n\\t\\t\\t!function(a,b,c){function d(a,b){var c=String.fromCharCode;l.clearRect(0,0,k.width,k.height),l.fillText(c.apply(this,a),0,0);var d=k.toDataURL();l.clearRect(0,0,k.width,k.height),l.fillText(c.apply(this,b),0,0);var e=k.toDataURL();return d===e}function e(a){var b;if(!l||!l.fillText)return!1;switch(l.textBaseline=\"top\",l.font=\"600 32px Arial\",a){case\"flag\":return!(b=d([55356,56826,55356,56819],[55356,56826,8203,55356,56819]))&&(b=d([55356,57332,56128,56423,56128,56418,56128,56421,56128,56430,56128,56423,56128,56447],[55356,57332,8203,56128,56423,8203,56128,56418,8203,56128,56421,8203,56128,56430,8203,56128,56423,8203,56128,56447]),!b);case\"emoji\":return b=d([55357,56424,55356,57342,8205,55358,56605,8205,55357,56424,55356,57340],[55357,56424,55356,57342,8203,55358,56605,8203,55357,56424,55356,57340]),!b}return!1}function f(a){var c=b.createElement(\"script\");c.src=a,c.defer=c.type=\"text/javascript\",b.getElementsByTagName(\"head\")[0].appendChild(c)}var g,h,i,j,k=b.createElement(\"canvas\"),l=k.getContext&&k.getContext(\"2d\");for(j=Array(\"flag\",\"emoji\"),c.supports={everything:!0,everythingExceptFlag:!0},i=0;i<j.length;i++)c.supports[j[i]]=e(j[i]),c.supports.everything=c.supports.everything&&c.supports[j[i]],\"flag\"!==j[i]&&(c.supports.everythingExceptFlag=c.supports.everythingExceptFlag&&c.supports[j[i]]);c.supports.everythingExceptFlag=c.supports.everythingExceptFlag&&!c.supports.flag,c.DOMReady=!1,c.readyCallback=function(){c.DOMReady=!0},c.supports.everything||(h=function(){c.readyCallback()},b.addEventListener?(b.addEventListener(\"DOMContentLoaded\",h,!1),a.addEventListener(\"load\",h,!1)):(a.attachEvent(\"onload\",h),b.attachEvent(\"onreadystatechange\",function(){\"complete\"===b.readyState&&c.readyCallback()})),g=c.source||{},g.concatemoji?f(g.concatemoji):g.wpemoji&&g.twemoji&&(f(g.twemoji),f(g.wpemoji)))}(window,document,window._wpemojiSettings);\\n\\t\\t\\n\\nimg.wp-smiley,\\nimg.emoji {\\n\\tdisplay: inline !important;\\n\\tborder: none !important;\\n\\tbox-shadow: none !important;\\n\\theight: 1em !important;\\n\\twidth: 1em !important;\\n\\tmargin: 0 .07em !important;\\n\\tvertical-align: -0.1em !important;\\n\\tbackground: none !important;\\n\\tpadding: 0 !important;\\n}\\n\\n\\n\\n\\n\\n\\n\\n\\n\\n\\n\\n\\n\\n\\n\\n\\n\\n\\n\\n\\n\\n\\nif (document.location.protocol != \"https:\") {document.location = document.URL.replace(/^http:/i, \"https:\");}\\n\\n\\n\\n\\n\\n\\n\\n\\n\\n\\n\\n\\n.vc_custom_1536816453824{padding-top: 25px !important;padding-right: 25px !important;padding-bottom: 25px !important;padding-left: 25px !important;}.vc_custom_1536814913241{padding-top: 25px !important;padding-right: 25px !important;padding-bottom: 25px !important;padding-left: 25px !important;}.vc_custom_1536814913241{padding-top: 25px !important;padding-right: 25px !important;padding-bottom: 25px !important;padding-left: 25px !important;}.vc_custom_1537330757093{margin-bottom: -25px !important;}.vc_custom_1536816789024{margin-top: -25px !important;}.vc_custom_1536814085266{margin-top: 5px !important;margin-bottom: 5px !important;background-color: rgba(255,255,255,0.5) !important;*background-color: rgb(255,255,255) !important;}.vc_custom_1536814085266{margin-top: 5px !important;margin-bottom: 5px !important;background-color: rgba(255,255,255,0.5) !important;*background-color: rgb(255,255,255) !important;}.vc_custom_1536814085266{margin-top: 5px !important;margin-bottom: 5px !important;background-color: rgba(255,255,255,0.5) !important;*background-color: rgb(255,255,255) !important;}.vc_custom_1536814085266{margin-top: 5px !important;margin-bottom: 5px !important;background-color: rgba(255,255,255,0.5) !important;*background-color: rgb(255,255,255) !important;}.vc_custom_1536814085266{margin-top: 5px !important;margin-bottom: 5px !important;background-color: rgba(255,255,255,0.5) !important;*background-color: rgb(255,255,255) !important;} .wpb_animate_when_almost_visible { opacity: 1; }\\n\\n\\n\\n\\n\\n\\nToggle navigation\\n\\n\\n\\n\\n\\n\\n\\n\\n\\n\\n\\n\\n\\nCalon Mahasiswa\\nMahasiswa\\nDosen dan Staf\\nAlumni\\n\\nid \\n\\nBahasa IndonesiaEnglish\\n\\n\\n\\n\\r\\n                            myITS \\n\\n \\nAkademik  \\n\\n\\n\\n\\n\\nProgram Studi\\nPeraturan dan Informasi\\nFasilitas  \\n\\n\\n\\n\\n\\nLaboratorium\\nRuang Baca\\nRuang Aula\\nRuang Kelas\\nRuang Sidang\\nFasilitas IT\\nRiset dan Kolaborasi  \\n\\n\\n\\n\\n\\nBidang Penelitian\\nPublikasi Ilmiah\\nTentang Informatika  \\n\\n\\n\\n\\n\\nSambutan Kepala Departemen\\nVisi dan Misi\\nSejarah\\nAkreditasi\\nPrestasi\\nDepartemen Dalam Angka\\n\\n\\n\\n\\n\\n\\n\\n\\n\\n\\n\\n\\n\\n\\n\\n\\n\\n\\n\\n\\n\\n\\n\\n\\n\\n\\n\\n\\n\\n\\n\\n\\nLaboratorium Komputasi Cerdas dan Visi\\n\\n\\n\\n\\n\\n\\n\\n\\n                          Daftar Dosen\\n                          \\n\\n                          Laboratorium\\n                          \\nProfil KCV\\n\\nFasilitas KCV\\n\\nPenelitian KCV\\n\\nPublikasi KCV\\n\\nPengabdian Masyarakat\\n\\nDosen Anggota KCV\\n\\n\\nService DeskSilahkan menghubungi ServiceDesk ITS, apabila ada permasalahan mengenai email, hosting, domain, maupun permasalahan yang terkait kepegawaian / sdmo.\\n\\n                            Hubungi Sekarang\\n                        \\n\\n\\n\\n\\nLaboratorium Komputasi Cerdas dan Visi\\n\\n\\n\\n\\n\\n\\n\\n\\n\\n\\n\\nDr.Eng. Nanik Suciati, S.Kom,M.Kom\\nKepala Laboratorium\\nEmail: nanik@if.its.ac.id\\ninitial,\\xa0NS\\n\\n\\ndetail\\n\\n\\n\\nSelamat Datang di halaman Laboratorium Komputasi Cerdas dan Visi. \\n\\nDi Laboratorium ini ditawarkan\\xa0bidang keahlian yang ditekankan pada kemampuan lulusan dalam memanipulasi dan menganalisis data citra pada berbagai bidang aplikasi (a.l. biomedika, industri), kemampuan menerapkan metode sistem cerdas pada berbagai bidang aplikasi dan kemampuan memodelkan dan mengoptimasikan sistem nyata.\\nMata kuliah bidang keahlian KCV, antara lain:\\n\\nPengolahan Citra Digital,\\nAnalisis Data Multivariat,\\nData Mining,\\nKomputasi Biomedik,\\nVisi Komputer,\\nSistem Temu Kembali Informasi,\\nRobotika,\\nAnalisis Media Sosial dan Topik Khusus KCV.\\n\\n\\n\\n\\n\\n\\nFasilitas\\n\\nLaboratorium Komputasi Cerdas dan Visi\\xa0 dilengkapi dengan komputer yang memiliki spesifikasi bervariasi mulai dari,\\nProcessor Intel Core i3 Gen-3, i5 Gen-8, sampai Intel® Xeon® E5-2640 dengan RAM 4GB-16GB.\\nUntuk HDD sebagian besar minimal 1TB.\\nSemua monitor berukuran 19″ untuk memudahkan mahasiswa dalam melakukan penelitian dan pembelajaran.\\nDilengkapi LED TV 55″ untuk mahasiswa dalam melakukan demo pembelajaran.\\nLCD Projector untuk memudahkan mahasiswa\\xa0 yang membutuhkan beberapa display\\nPloter Untung menunjang kebutuhan mahasiswa mencetak hasil tugas2 yang dibutuhkan.\\n\\n\\n\\n\\nPenelitian\\n\\n\\n201820172018\\n\\n\\n\\nPengenalan Wajah pada Data Video untuk Pengawasan Ruangan,Lab-based Education,Lokal,Dr. Eng. Nanik Suciati, S.Kom, M.Kom,Dr. Eng. Chastine Fatichah, S.Kom, M.Kom,Wijayanti Nurul Khotimah, S.Kom., M.Sc.,Luqman Ahmad,Andreas Galang Anugerah\\nKLASTERISASI TREN TOPIK PENELITIAN UNTUK REKOMENDASI PENGADAAN BAHAN PUSTAKA DI PERPUSTAKAAN ITS,Penelitian Kajian Kebijakan,Nasional,Dini Adni Navastara S.Kom., M.Sc.\\nSISTEM CERDAS UNTUK TEMU KEMBALI INFORMASI PADA DOKUMEN BERBAHASA ARAB,Penelitian Pendidikan Magister menuju Doktor untuk Sarjana Unggul,Nasional,Dr. Agus Zainal Arifin, S.Kom.,M.Kom.,Dr. Eng. Chastine Fatichah, S.Kom, M.Kom.\\nSistem Deteksi Dini Osteoporosis Menggunakan Fitur Kondilus pada Citra Panorama Gigi,Penelitian Pendidikan Magister menuju Doktor untuk Sarjana Unggul,Nasional,Dr. Agus Zainal Arifin, S.Kom.,M.Kom.,Dr. Eng. Nanik Suciati, S.Kom, M.Kom,,Raras\\nDeteksi Kejadian di Perkotaan melalui Crowdsourcing Berbasis Informasi Spasial dan Temporal menggunakan Metode Deep Learning,Penelitian Terapan Unggulan Perguruan Tinggi,Nasional,Dr. Eng. Chastine Fatichah, S.Kom, M.Kom,Dr. Eng. Nanik Suciati, S.Kom, M.Kom,Abdul Munif, S.Kom.,M.Sc.\\nEducational Data Mining Berbasis Klasifikasi Untuk Menganalisis Mahasiswa Berpotensi Berhenti Kuliah Pada Kasus Imbalanced Class Distribution,Penelitian Kerjasama Perguruan Tinggi,Nasional,Siti Mutrofin,Dr. Eng. Chastine Fatichah, S.Kom, M.Kom.\\nDeteksi Awal Jenis Pohon Mangga Dengan Aplikasi Perangkat Mobile Android Berdasarkan Warna dan Tekstur Daun,Penelitian Kerjasama Perguruan Tinggi,Nasional,Eko Prasetyo,Dr. Eng. Nanik Suciati, S.Kom, M.Kom,Dr. Eng. Chastine Fatichah, S.Kom, M.Kom.\\nPembuatan Sistem Penerjemah Bahasa Isyarat Bahasa Indonesia untuk Alat Bantu Komunikasi bagi Tuna Rungu Menggunakan Deep Learning.,Penelitian Pemula,Lokal,Wijayanti Nurul Khotimah S.Kom., M.Sc.,Dr. Eng. Nanik Suciati, S.Kom, M.Kom.\\nKombinasi Fitur Histogram of Oriented Gradients dan Local Binary Patterns untuk Klasifikasi Jenis Kendaraan,Penelitian Departemen,Lokal,Dini Adni Navastara, S.Kom., M.Sc.\\n\\n\\n\\n2017\\n\\n\\n\\n\\nPengembangan Perangkat Lunak Sistem Pengenal Keadaan Mental Manusia Berdasarkan Gelombang Aktifitas Otak EEG, Handayani Tjandrasa, PTUPT\\nPengembangan Sistem Pengukuran Otomatis Kualitas Tulang Berdasarkan Tulang Trabekula pada Leher Kondilus, Agus Zainal Arifin, PTUPT\\nDeteksi Awal Jenis Pohon Mangga Dengan Aplikasi Perangkat Mobil eAndroid Berdasarkan Warna dan Tekstur Daun, Eko Prasetyo (Universitas Bhayangkara), Nanik Suciati, Chastine Fatichah, Pekerti\\nDeep Learning Untuk Temu Kembali Data Citra Berjumlah Besar, Nanik Suciati, LBE\\nKombinasi Informasi Spasial dan Fitur Garis pada Adaptive Classifier Untuk Segmentasi Tulang Trabkula Pada Dental Panaromic Radiograph, Dini Adni Navastara\\n\\n\\n\\n\\n\\n\\n\\nPublikasi\\n\\n\\n201720162017\\n\\n\\n\\nJurnal Terindeks\\n\\nEvidence accumulation clustering with possibilitic fuzzy C-means base clustering approach to disease diagnosis | [Grupiranje zasnovano na skupljanju dokaza s vjerojatnosno-neizrazitim C-means pristupom za dijagnozu bolesti], Iliyasu, A.M., Fatichah, C., Abuhasel, K.A., Automatika\\nVehicle detection on images from satellite using oriented fast and rotated brief, Buliali, J.L., Fatichah, C., Herumurti, D., (…), Widyastuti, H., Wallace, M., Journal of Engineering and Applied Sciences\\nAverage and maximum weights in weighted rotation- and scale-invariant LBP for classification of mango leaves, Prasetyo, E., Adityo, R.D., Suciati, N., Fatichah, C., Journal of Theoretical and Applied Information Technology\\nCombining decision tree and back propagation genetic algorithm neural network for recognizing word gestures in Indonesian Sign Language using Kinect, Khotimah, W.N., Susanto, Y.A., Suciati, N., Journal of Theoretical and Applied Information Technology\\nIndonesian news classification using naïve bayes and two-phase feature selection model, Ali Fauzi, M., Arifin, A.Z., Gosaria, S.C., Prabowo, I.S., Indonesian Journal of Electrical Engineering and Computer Science\\nArabic book retrieval using class and book index based term weighting, Fauzi, M.A., Arifin, A.Z., Yuniarti, A., International Journal of Electrical and Computer Engineering\\nFuzzy region merging using fuzzy similarity measurement on image segmentation, Gunawan, W., Arifin, A.Z., Indraswari, R., Navastara, D.A., International Journal of Electrical and Computer Engineering\\n\\nSeminar Terindeks\\n\\nCo-occurrence technique and dictionary based method for Indonesian thesaurus construction, Sholikah, R.W., Arifin, A.Z., Purwitasari, D., Fatichah, C., 2017 5th International Conference on Information and Communication Technology, ICoIC7 2017\\nMango leaf image segmentation on HSV and YCbCr color spaces using Otsu thresholding, Prasetyo, E., Adityo, R.D., Suciati, N., Fatichah, C., Proceeding – 2017 3rd International Conference on Science and Technology-Computer, ICST 2017\\nFeature extraction using gray-level co-occurrence matrix of wavelet coefficients and texture matching for batik motif recognition, Suciati, N., Herumurti, D., Wijaya, A.Y., Proceedings of SPIE – The International Society for Optical Engineering\\nDetermining the number of clusters for nuclei segmentation in breast cancer image, Fatichah, C., Navastara, D.A., Suciati, N., Nuraini, L., Proceedings of SPIE – The International Society for Optical Engineering\\n\\n\\n\\n\\n2016\\n\\n\\n\\nJurnal Terindeks\\n\\nA bi-stage technique for segmenting cervical smear images using possibilistic fuzzy c-means and mathematical morphology, Abuhasel, K.A., Fatichah, C., Iliyasu, A.M., Journal of Medical Imaging and Health Informatics\\nA hybrid fuzzy morphology and connected components labeling methods for vehicle detection and counting system, Fatichah, C., Buliali, J.L., Saikhu, A., Tena, S., International Journal on Smart Sensing and Intelligent Systems\\nLossless image compression method using reversible low contrast mapping (RLCM), Mesra, H., Tjandrasa, H., Fatichah, C., Journal of Theoretical and Applied Information Technology\\nRegion based image retrieval using ratio of proportional overlapping object, Arifin, A.Z., Sholikah, R.W., Dimas Fanny, H.P., Navastara, D.A., Telkomnika (Telecommunication Computing Electronics and Control)\\nImproving multi-document summary method based on sentence distribution, Wahib, A., Arifin, A.Z., Purwitasari, D., Telkomnika (Telecommunication Computing Electronics and Control)\\n\\nSeminar Terindeks\\n\\nFeature extraction using statistical moments of wavelet transform for iris recognition, Proceedings of 2016 International Conference on Information and Communication Technology and Systems, Nanik Suciati, Afdhal Basith Anugrah, Chastine Fatichah, Handayani Tjandrasa, Agus Zainal Arifin, Diana Purwitasari, Dini Adni Navastara, ICTS 2016\\nA trichotomie technique to separate overlapped nuclei in microscopic cancer images, Fatichah, C., Iliyasu, A.M., Salama, A.S., Proceedings of 2016 SAI Computing Conference, SAI 2016\\nApplication development for recognizing type of infant’s cry sound, Limantoro, W.S., Fatichah, C., Yuhana, U.L., Proceedings of 2016 International Conference on Information and Communication Technology and Systems, ICTS 2016\\nCBE: Corpus-based of emotion for emotion detection in text document, Rachman, F.H., Sarno, R., Fatichah, C., Proceedings – 2016 3rd International Conference on Information Technology, Computer, and Electrical Engineering, ICITACEE 2016\\nPredictive modeling of the first year evaluation based on demographics data: Case study students of Telkom University, Indonesia, Fahrudin, T., Buliali, J.L., Fatichah, C., Proceedings of 2016 International Conference on Data and Software Engineering, ICoDSE 2016\\nEnhancing tomato clustering evaluation using color correction with improved linear regression in preprocessing phase, Sari, Y.A., Adinugroho, S., Ginardi, R.V.H., Suciati, N., 2016 International Conference on Advanced Computer Science and Information Systems, ICACSIS 2016\\n\\n\\n\\n\\n\\n\\n\\nPengabdian Masyarakat\\n\\n\\n20182018\\n\\n\\n\\nPembuatan Aplikasi Konversi Data Foto ke Pahatan 3D untuk Pengenalan Obyek bagi Penyandang Tuna Netra,Abdimas berbasis penelitian,Dr. Eng. Nanik Suciati, S.Kom, M.Kom,Prof.Ir.Handayani Tjandrasa, M.Sc, Ph.D.,Dr. Agus Zainal Arifin, S.Kom, M.Kom,Dr. Eng. Chastine Fatichah, S.Kom, M.Kom,Dini Adni Navastara, S.Kom., M.Sc.,Nuzul,Randy,Sumber Dana Lokal ITS\\nPengembangan Kapasitas Pengelola Pendidikan Diniyah dalam Penyusunan Materi Pembelajaran Berbasis Multimedia,Abdimas Departmen,Dr. Agus Zainal Arifin, S.Kom, M.Kom,Dini Adni Navastara, S.Kom., M.Sc.,Chasni,,Sumber Dana Mandiri\\n\\n\\n\\n\\n\\n\\n\\n\\nDosen Anggota Laboratorium Komputasi Berbasis Jaringan \\n\\n\\nLIHAT DISINI\\n \\n\\n\\n\\n\\n\\n\\n\\nHome >  Fasilitas  >  Laboratorium  >  Laboratorium Komputasi Cerdas dan Visi \\n\\n\\n\\n\\n\\n\\n\\n\\n\\n\\n\\n                            Jl. Teknik Kimia - Gedung Departemen Teknik Informatika\\r\\nKampus Institut Teknologi Sepuluh Nopember Surabaya\\r\\nJalan Raya ITS, Sukolilo, Surabaya 60111, Indonesia\\r\\nTelp : +62-31-5939212, 5995581, 5994251 (ext 1445, 1446) \\r\\nFax : +62-31-5913804\\r\\nemail : tinformatika@its.ac.id\\t    \\t\\t\\n\\n\\n\\n\\n\\n                            Temukan Kami\\t\\t\\t\\t\\t\\t\\n\\n\\n\\n\\n\\n\\n\\n\\n\\n\\n\\n\\n\\n\\n\\n\\n\\n\\t\\t\\t\\t\\t\\t\\tPengunjung\\t\\t\\t\\t\\t\\t\\n\\n\\nHari Ini: 215\\nTotal: 235301\\n\\n\\n\\n\\n\\n\\n\\n\\n\\n\\n\\n\\n\\n                            Peta Situs\\t\\t    \\t\\t\\t\\n\\n\\n\\n\\n\\n\\n\\n\\n\\nMost Viewed\\n\\nBeranda (143.900)\\n\\n\\nKurikulum dan Silabus Program Studi Sarjana (S1) (34.898)\\n\\n\\nProgram Studi Magister Teknik Informatika (S2) (30.111)\\n\\n\\nProgram Studi Sarjana (S1) (26.093)\\n\\n\\nProgram Studi (19.277)\\nTop RatedSertifikat dan Akreditasi\\nDaftar Dosen\\nPrestasi Departemen\\nRuang Kelas\\nTestimoni Alumni\\nhttps://www.youtube.com/watch?v=ZUcn2k1uM_Q \\n\\n\\n\\n\\n\\n\\n\\n    \\t\\t\\t\\tCopyright © 2021 Institut Teknologi Sepuluh Nopember    \\t\\t\\t\\n\\n\\n\\n\\n\\n\\n\\n\\n\\n\\n\\n\\n\\t$(window).load(function() {\\n\\t\\t$(\\'#container-gallery-masonry\\').packery({\\n\\t\\t    columnWidth: \".sizer\",\\n\\t\\t    containerStyle: null,\\n\\t\\t    itemSelector: \\'.box\\',\\n\\t\\t    gutter: 0,\\n\\t\\t    transitionDuration: 0\\n\\t\\t});\\n\\t});\\n\\n\\n\\tvar currentTime = new Date()\\n\\t$(\\'.the-year\\').html(currentTime.getFullYear())\\n\\n\\n\\t$(document).ready(function() {\\n\\t\\tvar containerFoooterMenu = $(\".menu-footer-mobile\")\\n\\t\\t$(\\'.mobile-menu-footer\\').on(\\'click\\', function() {\\n\\t\\t\\tcontainerFoooterMenu.fadeIn()\\n\\t\\t\\t$(\"body\").css({\\n\\t\\t\\t\\t\"overflow-y\": \"hidden\"\\n\\t\\t\\t})\\n\\t\\t})\\n\\n\\t\\t$(\\'.close-button-footer\\').on(\\'click\\', function() {\\n\\t\\t\\tcontainerFoooterMenu.fadeOut()\\n\\t\\t\\t$(\"body\").css({\\n\\t\\t\\t\\t\"overflow-y\": \"scroll\"\\n\\t\\t\\t})\\n\\t\\t})\\n\\t})\\n\\n\\n\\t$(window).bind(\"load\", function() {\\n\\t\\tconsole.log(\\'Page has been loaded\\')\\n\\t\\t$(\\'.section_slider\\').css({\\n\\t\\t\\t\\'opacity\\' : \\'1\\',\\n\\t\\t\\t\\'height\\' : \\'100%\\'\\n\\t\\t})\\n\\t\\t$(\\'.vc_section[data-vc-full-width], .vc_row[data-vc-full-width]\\').css({\\n\\t\\t\\t\\'opacity\\' : \\'1\\'\\n\\t\\t})\\n\\t})\\n\\n\\n\\t$(document).ready(function(){\\n\\t\\tvar sidebarclass = $(\\'.custom-accordion li\\')\\n\\t\\tvar sidebarclassactive = $(\\'.custom-accordion li.current_page_parent\\')\\n\\t\\tif (sidebarclass.hasClass(\"current_page_parent\")) {\\n\\t\\t\\tsidebarclassactive.find(\\'.children\\').addClass(\\'show\\')\\n\\t\\t\\tsidebarclassactive.find(\\'.toggle\\').find(\\'.fa-plus\\').removeClass(\\'fa-plus\\').addClass(\\'fa-minus\\')\\n\\t\\t}\\n\\t})\\n\\n\\n\\n\\n\\tvar $grid = $(\\'.grid\\').masonry({\\n\\t\\titemSelector: \\'.grid-item\\',\\n\\t\\tpercentPosition: true,\\n\\t\\tcolumnWidth: \\'.grid-sizer\\'\\n\\t});\\n\\t\\n\\t$grid.imagesLoaded().progress( function() {\\n\\t\\t$grid.masonry();\\n\\t});\\n\\n\\n    $(\\'ul.nav.main-menu li.dropdown\\').hover(function() {\\n    \\t$(this).find(\\'.submenu-plus i.fa-plus\\').removeClass(\\'fa-plus\\').addClass(\\'fa-minus\\')\\n        $(this).find(\\'.dropdown-menu\\').stop(true, true).fadeIn(300);\\n\\n        var a = parseInt($(this).find(\\'.container\\').offset().left, 10)\\n        var b = parseInt($(this).find(\\'.container\\').width(), 10) + a\\n\\t\\tvar c = parseInt($(this).offset().left, 10) - a\\n\\t\\tvar d = parseInt($(this).find(\\'.container-sub-mega-menu\\').offset().left, 10)\\n\\t\\tvar e = parseInt($(this).find(\\'.container-sub-mega-menu\\').width(), 10)\\n\\n\\t\\tif ((c + e) > b) {\\n\\t\\t\\t$(this).find(\\'.container-sub-mega-menu\\').css({\\n\\t\\t\\t\\t\\'right\\': 0,\\n\\t\\t\\t\\t\\'float\\': \\'right\\'\\n\\t\\t\\t})\\n\\t\\t}\\n\\t\\telse {\\n\\t\\t\\t$(this).find(\\'.container-sub-mega-menu\\').css({\\n\\t\\t\\t\\t\\'left\\': c\\n\\t\\t\\t})\\n\\t\\t}\\n\\n    }, function() {\\n        $(this).find(\\'.dropdown-menu\\').stop(true, true).fadeOut(300);\\n        $(this).find(\\'.submenu-plus i.fa-minus\\').removeClass(\\'fa-minus\\').addClass(\\'fa-plus\\')\\n    });\\n\\n\\n    $(document).ready(function () {\\n        $(\\'.dropdown-toggle\\').dropdown();\\n        $(\"[data-fancybox]\").fancybox();\\n        $(\\'.box-carousel\\').owlCarousel({\\n            loop:true,\\n            margin:0,\\n            nav:false,\\n            items:1,\\n            autoplay: true,\\n        });\\n    });\\n\\n\\n\\t$(\\'.container-arrow-slider\\').click(function () {\\n        $(\"html, body\").animate({ \\n        \\tscrollTop: $(\\'.section_slider\\').height()\\n        },1000);\\n    });\\n\\n\\n\\tvar $item = $(\\'.carousel .item\\'); \\n\\tvar $wHeight = $(window).height();\\n\\t$item.eq(0).addClass(\\'active\\');\\n\\t$item.height($wHeight); \\n\\t$item.addClass(\\'full-screen\\');\\n\\n\\t$(window).on(\\'resize\\', function (){\\n\\t\\t$wHeight = $(window).height();\\n\\t\\t$item.height($wHeight);\\n\\t});\\n\\n\\n\\t$(document).ready(function(){\\n      var percent = 0,\\n      \\t  crsl = $(\\'#carousel-example-generic\\');\\n      \\tcrsl.carousel({\\n\\t\\t    interval: false,\\n\\t\\t    pause: false\\n\\t\\t}).on(\\'slid.bs.carousel\\', function () {\\n\\t\\t\\ttoggleCaption();\\n\\t\\t})\\n\\n\\t\\t$(\\'.carousel-indicators li\\').on(\\'click\\', function() {\\n\\t\\t\\t$(this).find(\\'.transition-timer-carousel-progress-bar\\').closest(\\'li\\').nextAll().find(\\'.transition-timer-carousel-progress-bar\\').css({\\n\\t\\t\\t\\twidth: \\'0\\'\\n\\t\\t\\t});\\n\\t\\t\\t$(this).find(\\'.transition-timer-carousel-progress-bar\\').closest(\\'li\\').prevAll().find(\\'.transition-timer-carousel-progress-bar\\').css({\\n\\t\\t\\t\\twidth: \\'100%\\'\\n\\t\\t\\t});\\n\\t\\t})\\n\\n\\t\\tfunction progressBarCarousel() {\\n\\t\\t\\t$(\\'.active .transition-timer-carousel-progress-bar\\').css({\\n\\t\\t\\t\\twidth: percent + \\'%\\'\\n\\t\\t\\t});\\n\\t\\t\\tpercent = percent +0.5\\n\\t\\t\\tif (percent > 100) {\\n\\t\\t    \\tpercent = 0\\n\\t\\t      \\tcrsl.carousel(\\'next\\')\\n\\t\\t      \\tif ($(\\'.carousel-indicators li.active\\').data(\\'slide-to\\') == 0) {\\n\\t\\t      \\t\\t$(\\'.carousel-indicators li .transition-timer-carousel-progress-bar\\').css({\\n\\t\\t\\t\\t\\t\\twidth: 0\\n\\t\\t\\t\\t\\t});\\n\\t\\t      \\t}\\n\\t\\t  \\t}\\n\\t\\t}\\n\\n\\t\\tfunction toggleCaption() {\\n\\t\\t    var h3 = crsl.find(\\'.active\\').find(\\'.carousel-caption\\').find(\\'h3\\');\\n\\t\\t    var h2 = crsl.find(\\'.active\\').find(\\'.carousel-caption\\').find(\\'h2\\');\\n\\t\\t    var content = crsl.find(\\'.active\\').find(\\'.carousel-caption\\').find(\\'.content-carousel-caption\\');\\n\\t\\t    h3.addClass(\\'animated fadeInUp\\').css({\\'visibility\\' : \\'visible\\'});\\n\\t\\t    h2.addClass(\\'animated fadeInUp\\').css({\\'visibility\\' : \\'visible\\'});\\n\\t\\t    content.addClass(\\'animated fadeInUp\\').css({\\'visibility\\' : \\'visible\\'});\\n\\t\\t}\\n\\n\\t\\tvar barInterval = setInterval(progressBarCarousel, 40)\\n\\t\\tvar linkSlider = $(\\'.carousel-caption h3, .carousel-caption h2, .carousel-caption .content-carousel-caption\\');\\n\\n\\t\\tlinkSlider.hover(\\n\\t\\t\\tfunction() {\\n\\t\\t\\t\\tclearInterval(barInterval)\\n\\t\\t\\t}, function(){\\n\\t\\t\\t\\tbarInterval = setInterval(progressBarCarousel, 40)\\n\\t\\t\\t}\\n\\t\\t)\\n    })\\n\\n\\n\\t$(document).ready(function(){\\n\\t\\t$(window).scroll(function(){\\n\\t\\t\\tif ($(this).scrollTop() > 300) {\\n\\t\\t\\t\\t$(\\'.scrollToTop\\').fadeIn();\\n\\t\\t\\t} else {\\n\\t\\t\\t\\t$(\\'.scrollToTop\\').fadeOut();\\n\\t\\t\\t}\\n\\t\\t});\\n\\t\\t\\n\\t\\t$(\\'.scrollToTop\\').click(function(){\\n\\t\\t\\t$(\\'html, body\\').animate({scrollTop : 0},800);\\n\\t\\t\\treturn false;\\n\\t\\t});\\n\\t});\\n\\n\\n\\t$(function(){\\n        $(\".seaching-container a.show-searching\").click(function(e){\\n            $(\".sc_search\").animate({\\n\\t\\t\\t    opacity: \\'toggle\\',\\n\\t\\t\\t    height: \\'toggle\\'\\n\\t\\t\\t}, 500);\\n            $(\"a.hide-searching\").show()\\n            $(\"a.show-searching\").hide()\\n            $(\".search-query\").focus();\\n        })\\n        $(\".seaching-container a.hide-searching\").click(function(e){\\n            $(\".sc_search\").animate({\\n\\t\\t\\t\\topacity: \\'toggle\\',\\n\\t\\t\\t\\theight: \\'toggle\\'\\n\\t\\t\\t}, 500);\\n            $(\"a.hide-searching\").hide();\\n            $(\"a.show-searching\").show()\\n        })\\n    })  \\n\\n\\n    $(document).ready(function() {\\n        $(\\'.owl-carousel-item-campus-life\\').owlCarousel({\\n            center: true,\\n            margin: 0,\\n            responsiveClass: true,\\n            dots: false,\\n            loop: true,\\n            nav: false,\\n            responsive: {\\n                0: {\\n                    items: 1\\n                },\\n                600: {\\n                    items: 3\\n                },\\n                1000: {\\n                    items: 5\\n                }\\n            }\\n        })\\n\\n        $(\\'.owl-carousel-item-aboutits\\').owlCarousel({\\n\\t        responsiveClass: true,\\n\\t        dots: false,\\n\\t        loop: true,\\n\\t        navText: [\"&#139;\",\"&#155;\"],\\n\\t        nav: true,\\n\\t        margin: 10,\\n\\t        responsive: {\\n\\t            0: {\\n\\t                items: 1\\n\\t            },\\n\\t            600: {\\n\\t                items: 1\\n\\t            },\\n\\t            800: {\\n\\t                items: 2\\n\\t            },\\n\\t            1000: {\\n\\t                items: 3\\n\\t            }\\n\\t        }\\n\\t    })\\n\\n\\t    $(\\'.owl-carousel-item-repoits\\').owlCarousel({\\n\\t        responsiveClass: true,\\n\\t        dots: false,\\n\\t        loop: true,\\n\\t        navText: [\"&#139;\",\"&#155;\"],\\n\\t        nav: false,\\n\\t        margin: 10,\\n\\t        responsive: {\\n\\t            0: {\\n\\t                items: 1\\n\\t            },\\n\\t            600: {\\n\\t                items: 3\\n\\t            },\\n\\t            1000: {\\n\\t                items: 3\\n\\t            }\\n\\t        }\\n\\t    })\\n    })\\n\\n\\n\\t$(document).ready(function() {\\n        $(\\'.owl-carousel-item-history\\').owlCarousel({\\n        \\tresponsiveClass: true,\\n            dots: true,\\n            dotsEach: 1,\\n            navText: [\"&#139;\",\"&#155;\"],\\n            nav: true,\\n            margin: 0,\\n            dotsContainer: \".control-history\",\\n            // onResized: afterOWLinit,\\n            responsive: {\\n\\t            0: {\\n\\t                items: 1,\\n\\t                onInitialized: afterOWLinit\\n\\t            },\\n\\t            600: {\\n\\t            \\tdotsEach: 1,\\n\\t                items: 2,\\n\\t                onInitialized: afterOWLinit\\n\\t            },\\n\\t            1000: {\\n\\t            \\tdotsEach: 1,\\n\\t                items: 4,\\n\\t                onInitialized: afterOWLinit\\n\\t            }\\n\\t        }\\n        })\\n\\n        function afterOWLinit() {\\n\\t\\t\\tvar owl = jQuery(\\'.owl-carousel-item-history\\')\\n           \\t$(\\'.owl-controls .owl-dot\\').append(\\'<a class=\"item-link\" href=\"#\"/>\\');\\n\\n           \\tvar pafinatorsLink = $(\\'.control-history .owl-dot\\');\\n\\n           \\t$.each(this.$element.find(\\'.owl-item\\'), function (i) {\\n                \\n               \\t$(pafinatorsLink[i]).append(\\'<div class=\"title\">\\'+$(this).find(\\'.content\\').data(\\'year\\')+\\'</div>\\')\\n               \\t\\n               \\t.click(function () {\\n                   \\towl.trigger(\\'owl.goTo\\', i);\\n               \\t});\\n           \\t});\\n\\n           \\t$(\\'.owl-stage-outer\\').append(\\'<a href=\"#prev\" class=\"owl-custom-nav owl-prev\"/>\\');\\n           \\t$(\\'.owl-stage-outer\\').append(\\'<a href=\"#next\" class=\"owl-custom-nav owl-next\"/>\\');\\n       \\t}\\n    })\\n\\n\\n    $(\\'<a class=\"toggle\" href=\"javascript:void(0);\"><i class=\"fa fa-plus\"></i></a>\\').insertBefore(\".custom-accordion .children\");\\n    $(\\'.toggle\\').click(function(e) {\\n        e.preventDefault();\\n        var $this = $(this);\\n        if ($this.next().hasClass(\\'show\\')) {\\n            $this.next().removeClass(\\'show\\');\\n            $this.find(\\'.fa-minus\\').removeClass(\\'fa-minus\\').addClass(\\'fa-plus\\')\\n        } else {\\n            $this.parent().parent().find(\\'li .children\\').removeClass(\\'show\\');\\n            $this.next().toggleClass(\\'show\\');\\n            $this.find(\\'.fa-plus\\').removeClass(\\'fa-plus\\').addClass(\\'fa-minus\\')\\n        }\\n    });\\n\\n\\n    $(document).ready(function(){\\n        var myToltip = $(\"[rel=tooltip]\");\\n\\n        var size = $(window).width();\\n        for(i = 0; i < myToltip.length; i++){\\n            the_post = $(myToltip[i]);\\n\\n            if(the_post.hasClass(\\'invert\\') && size >=767 ){\\n                the_post.tooltip({ placement: \\'left\\'});\\n                the_post.css(\"cursor\",\"pointer\");\\n            }else{\\n                the_post.tooltip({ placement: \\'rigth\\'});\\n                the_post.css(\"cursor\",\"pointer\");\\n            }\\n        }\\n    });\\n\\n\\n\\n\\n\\n\\n\\n\\n\\n\\n\\n\\n\\n\\n\\n\\nvar mejsL10n = {\"language\":\"id\",\"strings\":{\"mejs.install-flash\":\"Anda menggunakan peramban yang tidak terinstal pemutar Flash. Silakan hidupkan plugin pemutar Flash Anda atau unduh versi terakhirnya dari https:\\\\/\\\\/get.adobe.com\\\\/flashplayer\\\\/\",\"mejs.fullscreen-off\":\"Matikan Layar Penuh\",\"mejs.fullscreen-on\":\"Nyalakan Layar Penuh\",\"mejs.download-video\":\"Unduh Video\",\"mejs.fullscreen\":\"Selayar penuh\",\"mejs.time-jump-forward\":[\"Loncat 1 detik ke depan\",\"Maju %1 detik\"],\"mejs.loop\":\"Ganti Loop\",\"mejs.play\":\"Putar\",\"mejs.pause\":\"Jeda\",\"mejs.close\":\"Tutup\",\"mejs.time-slider\":\"Penggeser Waktu\",\"mejs.time-help-text\":\"Gunakan tuts Panah Kanan\\\\/Kiri untuk melompat satu detik, panah Atas\\\\/Bawah untuk melompat sepuluh detik.\",\"mejs.time-skip-back\":[\"Putar balik 1 detik\",\"Mundur %1 detik\"],\"mejs.captions-subtitles\":\"Subteks\\\\/Subjudul\",\"mejs.captions-chapters\":\"Bab\",\"mejs.none\":\"Tak ada\",\"mejs.mute-toggle\":\"Pengubah Sunyi\",\"mejs.volume-help-text\":\"Gunakan Anak Panah Atas\\\\/Bawah untuk menaikkan atau menurunkan volume.\",\"mejs.unmute\":\"Matikan Sunyi\",\"mejs.mute\":\"Bisu\",\"mejs.volume-slider\":\"Penggeser Volume\",\"mejs.video-player\":\"Pemutar Video\",\"mejs.audio-player\":\"Pemutar Audio\",\"mejs.ad-skip\":\"Lewati iklan\",\"mejs.ad-skip-info\":[\"Lewati %1 detik\",\"Lewati %1 detik\"],\"mejs.source-chooser\":\"Pemilih Sumber\",\"mejs.stop\":\"Berhenti\",\"mejs.speed-rate\":\"Laju Kecepatan\",\"mejs.live-broadcast\":\"Siaran Langsung\",\"mejs.afrikaans\":\"Bahasa Afrikanas\",\"mejs.albanian\":\"Bahasa Albania\",\"mejs.arabic\":\"Bahasa Arab\",\"mejs.belarusian\":\"Bahasa Belarusia\",\"mejs.bulgarian\":\"Bahasa Bulgaria\",\"mejs.catalan\":\"Bahasa Katalan\",\"mejs.chinese\":\"Bahasa Mandarin\",\"mejs.chinese-simplified\":\"Bahasa Mandarin (Disederhanakan)\",\"mejs.chinese-traditional\":\"Bahasa Mandarin (Tradisional)\",\"mejs.croatian\":\"Bahasa Kroasia\",\"mejs.czech\":\"Bahasa Ceko\",\"mejs.danish\":\"Bahasa Denmark\",\"mejs.dutch\":\"Bahasa Belanda\",\"mejs.english\":\"Bahasa Inggris\",\"mejs.estonian\":\"Bahasa Estonia\",\"mejs.filipino\":\"Bahasa Filipino\",\"mejs.finnish\":\"Bahasa Finlandia\",\"mejs.french\":\"Bahasa Perancis\",\"mejs.galician\":\"Bahasa Galikan\",\"mejs.german\":\"Bahasa Jerman\",\"mejs.greek\":\"Bahasa Yunani\",\"mejs.haitian-creole\":\"Bahasa Kreol Haiti\",\"mejs.hebrew\":\"Bahasa Ibrani\",\"mejs.hindi\":\"Bahasa Hindi\",\"mejs.hungarian\":\"Bahasa Hungaria\",\"mejs.icelandic\":\"Bahasa Islandia\",\"mejs.indonesian\":\"Bahasa Indonesia\",\"mejs.irish\":\"Bahasa Irlandia\",\"mejs.italian\":\"Bahasa Italia\",\"mejs.japanese\":\"Bahasa Jepang\",\"mejs.korean\":\"Bahasa Korea\",\"mejs.latvian\":\"Bahasa Latvia\",\"mejs.lithuanian\":\"Bahasa Lithuania\",\"mejs.macedonian\":\"Bahasa Macedonia\",\"mejs.malay\":\"Bahasa Melayu\",\"mejs.maltese\":\"Bahasa Malta\",\"mejs.norwegian\":\"Bahasa Norwegia\",\"mejs.persian\":\"Bahasa Persia\",\"mejs.polish\":\"Bahasa Polandia\",\"mejs.portuguese\":\"Bahasa Portugis\",\"mejs.romanian\":\"Bahasa Romania\",\"mejs.russian\":\"Bahasa Russia\",\"mejs.serbian\":\"Bahasa Serbia\",\"mejs.slovak\":\"Bahasa Slovakia\",\"mejs.slovenian\":\"Bahasa Slovenia\",\"mejs.spanish\":\"Bahasa Spanyol\",\"mejs.swahili\":\"Bahasa Swahili\",\"mejs.swedish\":\"Bahasa Swedia\",\"mejs.tagalog\":\"Bahasa Tagalog\",\"mejs.thai\":\"Bahasa Thai\",\"mejs.turkish\":\"Bahasa Turki\",\"mejs.ukrainian\":\"Bahasa Ukraina\",\"mejs.vietnamese\":\"Bahasa Vietnam\",\"mejs.welsh\":\"Bahasa Welsh\",\"mejs.yiddish\":\"Bahasa Yiddi\"}};\\n\\n\\n\\n\\n/* <![CDATA[ */\\nvar _wpmejsSettings = {\"pluginPath\":\"\\\\/informatika\\\\/wp-includes\\\\/js\\\\/mediaelement\\\\/\",\"classPrefix\":\"mejs-\",\"stretching\":\"responsive\"};\\n/* ]]> */\\n\\n\\n\\n(function() {\\n\\t\\t\\t\\tvar expirationDate = new Date();\\n\\t\\t\\t\\texpirationDate.setTime( expirationDate.getTime() + 31536000 * 1000 );\\n\\t\\t\\t\\tdocument.cookie = \"pll_language=id; expires=\" + expirationDate.toUTCString() + \"; path=/\";\\n\\t\\t\\t}());'"
      ]
     },
     "execution_count": 11,
     "metadata": {
      "tags": []
     },
     "output_type": "execute_result"
    }
   ],
   "source": [
    "# Membaca teks dari halaman website\n",
    "import urllib.request\n",
    "from bs4 import BeautifulSoup as bs\n",
    "\n",
    "URL = \"https://www.its.ac.id/informatika/fasilitas/laboratorium/laboratorium-komputasi-cerdas-dan-visi/\"\n",
    "doc = urllib.request.urlopen(URL).read()\n",
    "doc = bs(doc, 'lxml').text\n",
    "\n",
    "doc"
   ]
  },
  {
   "cell_type": "markdown",
   "metadata": {
    "id": "qeweqR1Pfnud"
   },
   "source": [
    "<h3>Membaca data dari modul</h3\n",
    "<p>Contoh dataset dokumen yang cukup tenar: &quot;20 NewsGroup&quot;</p>\n",
    "\n",
    "<img alt=\"\" src=\"figures/6_20News.jpg\" style=\"height: 300px ; width: 533px\" />\n",
    "<p><a href=\"http://scikit-learn.org/stable/modules/generated/sklearn.datasets.fetch_20newsgroups.html#sklearn.datasets.fetch_20newsgroups\" target=\"_blank\">http://scikit-learn.org/stable/modules/generated/sklearn.datasets.fetch_20newsgroups.html#sklearn.datasets.fetch_20newsgroups</a></p>\n",
    "\n",
    "<p><strong>Categories </strong>=&nbsp;</p>\n",
    "<pre>\n",
    "[&#39;alt.atheism&#39;, &#39;comp.graphics&#39;, &#39;comp.os.ms-windows.misc&#39;, &#39;comp.sys.ibm.pc.hardware&#39;, &#39;comp.sys.mac.hardware&#39;,\n",
    " &#39;comp.windows.x&#39;, &#39;misc.forsale&#39;, &#39;rec.autos&#39;, &#39;rec.motorcycles&#39;, &#39;rec.sport.baseball&#39;, &#39;rec.sport.hockey&#39;,\n",
    " &#39;sci.crypt&#39;, &#39;sci.electronics&#39;, &#39;sci.med&#39;, &#39;sci.space&#39;, &#39;soc.religion.christian&#39;, &#39;talk.politics.guns&#39;,\n",
    " &#39;talk.politics.mideast&#39;, &#39;talk.politics.misc&#39;, &#39;talk.religion.misc&#39;]</pre>\n"
   ]
  },
  {
   "cell_type": "code",
   "execution_count": 12,
   "metadata": {
    "colab": {
     "base_uri": "https://localhost:8080/",
     "height": 69
    },
    "executionInfo": {
     "elapsed": 2223,
     "status": "ok",
     "timestamp": 1614835066407,
     "user": {
      "displayName": "Afif Fadhlurrahman",
      "photoUrl": "https://lh3.googleusercontent.com/a-/AOh14GgVG6nTOWdjTaNid90Wc4DFAhsSq2R7ERjFx38n=s64",
      "userId": "01190859154193556059"
     },
     "user_tz": -420
    },
    "id": "_4UcMwzufnuf",
    "outputId": "96c59516-c170-4e2f-fe8d-fc343b5140c7"
   },
   "outputs": [
    {
     "data": {
      "application/vnd.google.colaboratory.intrinsic+json": {
       "type": "string"
      },
      "text/plain": [
       "'I want to get a car alarm and I am thinking about getting an Ungo Box.\\n    Does anyone out there have any knowledge or experience with any of\\n    these alarms?  How about price ranges for the different models?\\n    Are these good car alarms?  Please email me any responces.\\n\\n                cak3@ns3.lehigh.edu'"
      ]
     },
     "execution_count": 12,
     "metadata": {
      "tags": []
     },
     "output_type": "execute_result"
    }
   ],
   "source": [
    "# Membaca teks dari modul\n",
    "# note: butuh koneksi internet\n",
    "\n",
    "from sklearn.datasets import fetch_20newsgroups\n",
    "\n",
    "categories = ['sci.med', 'talk.politics.misc',  'rec.autos']\n",
    "data = fetch_20newsgroups(subset='train', categories=categories,remove=('headers', 'footers', 'quotes'))\n",
    "\n",
    "data.data[0]"
   ]
  },
  {
   "cell_type": "code",
   "execution_count": 13,
   "metadata": {
    "executionInfo": {
     "elapsed": 1369,
     "status": "ok",
     "timestamp": 1614835071442,
     "user": {
      "displayName": "Afif Fadhlurrahman",
      "photoUrl": "https://lh3.googleusercontent.com/a-/AOh14GgVG6nTOWdjTaNid90Wc4DFAhsSq2R7ERjFx38n=s64",
      "userId": "01190859154193556059"
     },
     "user_tz": -420
    },
    "id": "bBkYW_XJfnug"
   },
   "outputs": [],
   "source": [
    "# Agar tidak perlu mendownload kembali data, ada baiknya disimpan \n",
    "# jika dibutuhkan tinggal membacanya dari drive\n",
    "# data dapat disimpan ke dalam bentuk pickle\n",
    "import pickle\n",
    "\n",
    "dst_name = \"20newsgroups.pickle\"\n",
    "path = \"drive/My Drive/STKI/data\"\n",
    "dst_path = os.path.join(path, dst_name)\n",
    "\n",
    "# wb = write binary\n",
    "# w = write\n",
    "# rb = read binary\n",
    "# r = read\n",
    "with open(dst_path, 'wb') as fout:\n",
    "    pickle.dump(data, fout)"
   ]
  },
  {
   "cell_type": "code",
   "execution_count": 14,
   "metadata": {
    "colab": {
     "base_uri": "https://localhost:8080/",
     "height": 69
    },
    "executionInfo": {
     "elapsed": 867,
     "status": "ok",
     "timestamp": 1614835081791,
     "user": {
      "displayName": "Afif Fadhlurrahman",
      "photoUrl": "https://lh3.googleusercontent.com/a-/AOh14GgVG6nTOWdjTaNid90Wc4DFAhsSq2R7ERjFx38n=s64",
      "userId": "01190859154193556059"
     },
     "user_tz": -420
    },
    "id": "5A4dXwiQfnuh",
    "outputId": "134deba6-421b-4b24-c0af-f7031fabcd83"
   },
   "outputs": [
    {
     "data": {
      "application/vnd.google.colaboratory.intrinsic+json": {
       "type": "string"
      },
      "text/plain": [
       "'I want to get a car alarm and I am thinking about getting an Ungo Box.\\n    Does anyone out there have any knowledge or experience with any of\\n    these alarms?  How about price ranges for the different models?\\n    Are these good car alarms?  Please email me any responces.\\n\\n                cak3@ns3.lehigh.edu'"
      ]
     },
     "execution_count": 14,
     "metadata": {
      "tags": []
     },
     "output_type": "execute_result"
    }
   ],
   "source": [
    "# Membaca data dari pickle\n",
    "\n",
    "src_name = dst_name\n",
    "path = \"drive/My Drive/STKI/data\"\n",
    "src_path = os.path.join(path, src_name)\n",
    "\n",
    "with open(src_path, 'rb') as fin:\n",
    "    data_pckl = pickle.load(fin)\n",
    "\n",
    "data_pckl.data[0]"
   ]
  },
  {
   "cell_type": "code",
   "execution_count": 15,
   "metadata": {
    "colab": {
     "base_uri": "https://localhost:8080/"
    },
    "executionInfo": {
     "elapsed": 965,
     "status": "ok",
     "timestamp": 1614835084561,
     "user": {
      "displayName": "Afif Fadhlurrahman",
      "photoUrl": "https://lh3.googleusercontent.com/a-/AOh14GgVG6nTOWdjTaNid90Wc4DFAhsSq2R7ERjFx38n=s64",
      "userId": "01190859154193556059"
     },
     "user_tz": -420
    },
    "id": "DT83YDmgfnuh",
    "outputId": "5a87bd72-2a67-491f-ff3b-5501b6f674a5"
   },
   "outputs": [
    {
     "data": {
      "text/plain": [
       "1653"
      ]
     },
     "execution_count": 15,
     "metadata": {
      "tags": []
     },
     "output_type": "execute_result"
    }
   ],
   "source": [
    "len(data_pckl.data)"
   ]
  },
  {
   "cell_type": "markdown",
   "metadata": {
    "id": "bD7JBCRdfnui"
   },
   "source": [
    "### Representasi vektor\n",
    "\n",
    "<ul>\n",
    "    <li>Data teks tidak dapat secara langsung dianalisis dengan model statistik/ data mining</li>\n",
    "    <li>Data teks terlebih dahulu harus diolah melalui tahapan pre-processing dan kemudian direpresentasikan ke dalam bentuk yang lebih sederhana (vektor) agar dapat dengan mudah untuk diolah</li>\n",
    "    <li>Akan tetapi perubahan data ke dalam bentuk yang lebih sederhana dapat berakibat pada hilangnya beberapa informasi dari data tersebut. Contohnya pada metode <strong> bag-of-words </strong> informasi urutan antar kata hilang </li>\n",
    "</ul>"
   ]
  },
  {
   "cell_type": "markdown",
   "metadata": {
    "id": "Y7CuaGBpfnuj"
   },
   "source": [
    "<h3> Vector Space Model (VSM) </h3>\n",
    "<p> VSM merepresentasikan sebuah kata ke dalam bentuk vektor dalam suatu dimensi spasial. </p>\n",
    "\n",
    "<p><img alt=\"\" src=\"figures/vsm.png\" style=\"width: 300px; height: 213px;\" /></p>\n"
   ]
  },
  {
   "cell_type": "markdown",
   "metadata": {
    "id": "72huFUh_fnuj"
   },
   "source": [
    "<h4> Contoh representasi vektor antara term dengan dokumen: </h4>\n",
    "<p><img alt=\"\" src=\"figures/3_Bentuk umum representasi dokumen.JPG\" style=\"height: 294px ; width: 620px\" /></p>\n",
    "\n",
    "<p><img alt=\"\" src=\"figures/vsm_matrix.png\" style=\"width: 500px; height: 283px;\" /></p>"
   ]
  },
  {
   "cell_type": "code",
   "execution_count": 16,
   "metadata": {
    "colab": {
     "base_uri": "https://localhost:8080/"
    },
    "executionInfo": {
     "elapsed": 1077,
     "status": "ok",
     "timestamp": 1614835089584,
     "user": {
      "displayName": "Afif Fadhlurrahman",
      "photoUrl": "https://lh3.googleusercontent.com/a-/AOh14GgVG6nTOWdjTaNid90Wc4DFAhsSq2R7ERjFx38n=s64",
      "userId": "01190859154193556059"
     },
     "user_tz": -420
    },
    "id": "t-eQuB4afnul",
    "outputId": "34dd7c5c-e100-45c0-c5e9-891f2c1fc52b"
   },
   "outputs": [
    {
     "name": "stdout",
     "output_type": "stream",
     "text": [
      "['and', 'document', 'first', 'is', 'one', 'second', 'the', 'third', 'this']\n",
      "[[0 1 1 1 0 0 1 0 1]\n",
      " [0 2 0 1 0 1 1 0 1]\n",
      " [1 0 0 1 1 0 1 1 1]\n",
      " [0 1 1 1 0 0 1 0 1]]\n"
     ]
    }
   ],
   "source": [
    "# Contoh pembentukan representasi vektor dengan perhitungan frekuensi (VSM-TF)\n",
    "# dapat menggunakan library CountVectorizer pada sklearn\n",
    "from sklearn.feature_extraction.text import CountVectorizer\n",
    "corpus = [\n",
    "'This is the first document.',\n",
    "'This document is the second document.',\n",
    "'And this is the third one.',\n",
    "'Is this the first document?',\n",
    "]\n",
    "vectorizer = CountVectorizer()\n",
    "X = vectorizer.fit_transform(corpus)\n",
    "print(vectorizer.get_feature_names())\n",
    "print(X.toarray())"
   ]
  },
  {
   "cell_type": "markdown",
   "metadata": {
    "id": "4tZFSOISfnum"
   },
   "source": [
    "<h4> TF.IDF-Term Weighting </h4>\n",
    "<ul>\n",
    "    <li> Pada representasi vektor sebelumnya nilai antar term dengan dokumen hanya berupa frekuensi kemunculan saja </li>\n",
    "    <li> Nilai antar term dengan dokumen dapat digantikan dengan bobot TF.IDF </li>\n",
    "    <li> TF (Term Frequency) menghitung frekuensi dari suatu kata pada dokumen; sementara IDF (Inverse Document Frequency) menghitung nilai informatif dari suatu kata berdasarkan tingkat kemunculannya antar dokumen </li>\n",
    "\n",
    "</ul>\n",
    "\n",
    "<p><img alt=\"\" src=\"figures/3_tfidf logic.jpg\" style=\"height:359px; width:638px\" /></p>"
   ]
  },
  {
   "cell_type": "markdown",
   "metadata": {
    "id": "ph2zew0Cfnum"
   },
   "source": [
    "<h4> Rumus perhitungan TFIDF </h4>\n",
    "<p><img alt=\"\" src=\"figures/3_rumus tfidf.png\" style=\"height:370px; width:367px\" /></p>\n",
    "\n",
    "<p><img alt=\"\" src=\"figures/3_variant tfidf.png\" style=\"height:300px; width:955px\" /></p>"
   ]
  },
  {
   "cell_type": "code",
   "execution_count": 17,
   "metadata": {
    "colab": {
     "base_uri": "https://localhost:8080/"
    },
    "executionInfo": {
     "elapsed": 949,
     "status": "ok",
     "timestamp": 1614835093975,
     "user": {
      "displayName": "Afif Fadhlurrahman",
      "photoUrl": "https://lh3.googleusercontent.com/a-/AOh14GgVG6nTOWdjTaNid90Wc4DFAhsSq2R7ERjFx38n=s64",
      "userId": "01190859154193556059"
     },
     "user_tz": -420
    },
    "id": "acJ_0sO6fnun",
    "outputId": "88a09e0b-47db-4553-fd24-b70766ede151"
   },
   "outputs": [
    {
     "name": "stdout",
     "output_type": "stream",
     "text": [
      "['and', 'document', 'first', 'is', 'one', 'second', 'the', 'third', 'this']\n",
      "[[0.         0.46979139 0.58028582 0.38408524 0.         0.\n",
      "  0.38408524 0.         0.38408524]\n",
      " [0.         0.6876236  0.         0.28108867 0.         0.53864762\n",
      "  0.28108867 0.         0.28108867]\n",
      " [0.51184851 0.         0.         0.26710379 0.51184851 0.\n",
      "  0.26710379 0.51184851 0.26710379]\n",
      " [0.         0.46979139 0.58028582 0.38408524 0.         0.\n",
      "  0.38408524 0.         0.38408524]]\n"
     ]
    }
   ],
   "source": [
    "# Contoh pembentukan representasi vektor dengan TFIDF (VSM-TFIDF)\n",
    "from sklearn.feature_extraction.text import TfidfVectorizer\n",
    "corpus = [\n",
    "'This is the first document.',\n",
    "'This document is the second document.',\n",
    "'And this is the third one.',\n",
    "'Is this the first document?',\n",
    "]\n",
    "vectorizer_tfidf = TfidfVectorizer()\n",
    "X_tfidf = vectorizer_tfidf.fit_transform(corpus)\n",
    "print(vectorizer_tfidf.get_feature_names())\n",
    "print(X_tfidf.toarray())"
   ]
  },
  {
   "cell_type": "code",
   "execution_count": 18,
   "metadata": {
    "colab": {
     "base_uri": "https://localhost:8080/"
    },
    "executionInfo": {
     "elapsed": 1134,
     "status": "ok",
     "timestamp": 1614835097165,
     "user": {
      "displayName": "Afif Fadhlurrahman",
      "photoUrl": "https://lh3.googleusercontent.com/a-/AOh14GgVG6nTOWdjTaNid90Wc4DFAhsSq2R7ERjFx38n=s64",
      "userId": "01190859154193556059"
     },
     "user_tz": -420
    },
    "id": "RNa5NWWWfnuo",
    "outputId": "223ab1a8-de86-4e64-91d3-fc28bd8e7fe2"
   },
   "outputs": [
    {
     "name": "stdout",
     "output_type": "stream",
     "text": [
      "['and', 'document', 'first', 'is', 'one', 'second', 'the', 'third', 'this']\n",
      "[[0 1 1 1 0 0 1 0 1]\n",
      " [0 1 0 1 0 1 1 0 1]\n",
      " [1 0 0 1 1 0 1 1 1]\n",
      " [0 1 1 1 0 0 1 0 1]]\n"
     ]
    }
   ],
   "source": [
    "# Contoh pembentukan representasi vektor dengan binary 0 atau 1 (VSM-binary)\n",
    "from sklearn.feature_extraction.text import CountVectorizer\n",
    "corpus = [\n",
    "'This is the first document.',\n",
    "'This document is the second document.',\n",
    "'And this is the third one.',\n",
    "'Is this the first document?',\n",
    "]\n",
    "vectorizer_binary = CountVectorizer(binary=True)\n",
    "X_binary = vectorizer_binary.fit_transform(corpus)\n",
    "print(vectorizer_binary.get_feature_names())\n",
    "print(X_binary.toarray())"
   ]
  },
  {
   "cell_type": "markdown",
   "metadata": {
    "id": "JiD5Lzmufnup"
   },
   "source": [
    "<h3 id=\"Latihan:\"><font color=\"blue\">Latihan 1:</font></h3>\n",
    "\n",
    "<p> Ubahlah data dari 20newsgroup dataset yang telah disimpan dalam bentuk pickle ke dalam representasi vektornya\n",
    "<ul>\n",
    "    <li> VSM binary </li>\n",
    "    <li> VSM TF </li>\n",
    "    <li> VSM TFIDF </li>\n",
    "</ul>\n",
    "\n",
    "<p> Apakah ukuran matriks yang terbentuk dari ketiga VSM tersebut sama? </p>\n",
    "<p> Apakah baris kosong berpengaruh terhadap ukuran matriks yang terbentuk? </p>"
   ]
  },
  {
   "cell_type": "code",
   "execution_count": 19,
   "metadata": {
    "colab": {
     "base_uri": "https://localhost:8080/"
    },
    "executionInfo": {
     "elapsed": 4095,
     "status": "ok",
     "timestamp": 1614835105027,
     "user": {
      "displayName": "Afif Fadhlurrahman",
      "photoUrl": "https://lh3.googleusercontent.com/a-/AOh14GgVG6nTOWdjTaNid90Wc4DFAhsSq2R7ERjFx38n=s64",
      "userId": "01190859154193556059"
     },
     "user_tz": -420
    },
    "id": "DmXSUdPafnup",
    "outputId": "3c43886a-0963-4168-a01d-97ce17af61bb"
   },
   "outputs": [
    {
     "name": "stdout",
     "output_type": "stream",
     "text": [
      "Requirement already satisfied: gensim in /usr/local/lib/python3.7/dist-packages (3.6.0)\n",
      "Requirement already satisfied: smart-open>=1.2.1 in /usr/local/lib/python3.7/dist-packages (from gensim) (4.2.0)\n",
      "Requirement already satisfied: six>=1.5.0 in /usr/local/lib/python3.7/dist-packages (from gensim) (1.15.0)\n",
      "Requirement already satisfied: scipy>=0.18.1 in /usr/local/lib/python3.7/dist-packages (from gensim) (1.4.1)\n",
      "Requirement already satisfied: numpy>=1.11.3 in /usr/local/lib/python3.7/dist-packages (from gensim) (1.19.5)\n"
     ]
    }
   ],
   "source": [
    "!pip install gensim"
   ]
  },
  {
   "cell_type": "code",
   "execution_count": null,
   "metadata": {
    "id": "w_IVVqG0fnur"
   },
   "outputs": [],
   "source": [
    "# Kerjakan latihan 1 pada cell berikut ini\n"
   ]
  },
  {
   "cell_type": "markdown",
   "metadata": {
    "id": "kgAF6DyFfnur"
   },
   "source": [
    "#### Custom TFIDF\n",
    "* Menurut http://scikit-learn.org/stable/modules/generated/sklearn.feature_extraction.text.TfidfVectorizer.html\n",
    "* default formula tf-idf yang digunakan sk-learn adalah:\n",
    "* $tfidf = tf * log(\\frac{N}{df+1})$ ==> Smooth IDF\n",
    "* namun kita merubahnya menjadi:\n",
    "* $tfidf = tf * log(\\frac{N}{df})$ ==> Non Smooth IDF\n",
    "* $tfidf = (1+log(tf)) * log(\\frac{N}{df+1})$ ==> sublinear_tf, Smooth IDF\n",
    "* $tfidf = (1+log(tf)) * log(\\frac{N}{df})$ ==> sublinear_tf, Non Smooth IDF"
   ]
  },
  {
   "cell_type": "code",
   "execution_count": null,
   "metadata": {
    "id": "gn8lSxjbfnus"
   },
   "outputs": [],
   "source": [
    "corpus = [\n",
    "'This is the first document.',\n",
    "'This document is the second document.',\n",
    "'And this is the third one.',\n",
    "'Is this the first document?',\n",
    "]\n",
    "tfidf_vectorizer = TfidfVectorizer(smooth_idf= False, sublinear_tf=True, lowercase=True)\n",
    "tfidf = tfidf_vectorizer.fit_transform(corpus)\n",
    "print(tfidf.shape) # Sama\n",
    "print(tfidf[0].data) # Hanya data ini yg berubah\n",
    "print(tfidf[0].indices) # Letak kolomnya = tfidf"
   ]
  },
  {
   "cell_type": "markdown",
   "metadata": {
    "id": "LsLShdCRfnut"
   },
   "source": [
    "<h4 id=\"Zipf's-Law:--&quot;power-law&quot;-:\">Zipf&#39;s Law: &quot;power law&quot; :</h4>\n",
    "\n",
    "<img alt=\"\" src=\"figures/zipf.png\" style=\"width: 456px; height: 270px;\" />\n",
    "<ul>\n",
    "\t<li><a href=\"https://plus.maths.org/content/mystery-zipf\" target=\"_blank\">https://plus.maths.org/content/mystery-zipf</a></li>\n",
    "\t<li><a href=\"https://www.ncbi.nlm.nih.gov/pmc/articles/PMC4176592/\" target=\"_blank\">https://www.ncbi.nlm.nih.gov/pmc/articles/PMC4176592/</a></li>\n",
    "</ul>"
   ]
  },
  {
   "cell_type": "code",
   "execution_count": null,
   "metadata": {
    "id": "mbC9eC2Gfnuu"
   },
   "outputs": [],
   "source": [
    "# frequency filtering di VSM\n",
    "# Menghilangkan term yg memiliki frequency kemunculan di banyak dokumen > threshold \n",
    "# dan term yang memiliki frequency kemunculan antar dokumen < threshold\n",
    "\n",
    "tfidf_vectorizer = TfidfVectorizer()\n",
    "tfidf_1 = tfidf_vectorizer.fit_transform(corpus)\n",
    "\n",
    "tfidf_vectorizer_filter = TfidfVectorizer(max_df=0.75, min_df=1)\n",
    "tfidf_2 = tfidf_vectorizer_filter.fit_transform(corpus)\n",
    "\n",
    "print(tfidf_1.shape)\n",
    "print(tfidf_2.shape)"
   ]
  },
  {
   "cell_type": "markdown",
   "metadata": {
    "id": "1OKjrBEvfnuu"
   },
   "source": [
    "<h3 id=\"Latihan:\"><font color=\"blue\">Latihan 2:</font></h3>\n",
    "\n",
    "<ul>\n",
    "    <li> Lakukan filtering pada VSM dari 20newsgroup dataset </li> \n",
    "    <li> Diskusikanlah, mengapa menghilangkan term yang memiliki frekuensi kemunculan tinggi antar dokumen?</li>\n",
    "    <li> Mengapa menghilangkan term yang memiliki frekuensi kemunculan rendah antar dokumen? </li>\n",
    "    <li> Mengapa perlu melakukan filtering berdasarkan frekuensi? </li>\n",
    "</ul>"
   ]
  },
  {
   "cell_type": "code",
   "execution_count": null,
   "metadata": {
    "id": "78S37tu6fnuv"
   },
   "outputs": [],
   "source": [
    "# Kerjakan latihan 2 pada cell berikut ini\n"
   ]
  },
  {
   "cell_type": "code",
   "execution_count": null,
   "metadata": {
    "id": "L-3AwZOdfnuv"
   },
   "outputs": [],
   "source": [
    "# Model VSM dapat dipergunakan untuk N-gram\n",
    "# Bermanfaat untuk menangkap term yang berupa frase\n",
    "tfidf_vectorizer_ngram = TfidfVectorizer(ngram_range = (1,2))\n",
    "tfidf_ngram = tfidf_vectorizer_ngram.fit_transform(corpus)\n",
    "\n",
    "print(\"=====Without N-gram=====\")\n",
    "print(tfidf_vectorizer.vocabulary_)\n",
    "print(\"=====With N-gram=====\")\n",
    "print(tfidf_vectorizer_ngram.vocabulary_)"
   ]
  },
  {
   "cell_type": "markdown",
   "metadata": {
    "id": "rOu0u7gXfnuw"
   },
   "source": [
    "<h3 id=\"Latihan:\"><font color=\"blue\">Latihan 3:</font></h3>\n",
    "\n",
    "<ul>\n",
    "    <li> Diskusikanlah, apakah n-gram efektif untuk menangkap term yang berupa frase? apakah hasil yang diperoleh dari n-gram SVM sudah memuaskan?\n",
    "</ul>"
   ]
  },
  {
   "cell_type": "code",
   "execution_count": null,
   "metadata": {
    "id": "51jWIoegfnuw"
   },
   "outputs": [],
   "source": [
    "# Kerjakan latihan 3 pada cell berikut ini"
   ]
  }
 ],
 "metadata": {
  "celltoolbar": "Slideshow",
  "colab": {
   "collapsed_sections": [],
   "name": "Pertemuan_3.ipynb",
   "provenance": [],
   "toc_visible": true
  },
  "kernelspec": {
   "display_name": "Python 3",
   "language": "python",
   "name": "python3"
  },
  "language_info": {
   "codemirror_mode": {
    "name": "ipython",
    "version": 3
   },
   "file_extension": ".py",
   "mimetype": "text/x-python",
   "name": "python",
   "nbconvert_exporter": "python",
   "pygments_lexer": "ipython3",
   "version": "3.10.4"
  },
  "toc": {
   "base_numbering": 1,
   "nav_menu": {},
   "number_sections": true,
   "sideBar": true,
   "skip_h1_title": false,
   "title_cell": "Table of Contents",
   "title_sidebar": "Contents",
   "toc_cell": false,
   "toc_position": {},
   "toc_section_display": true,
   "toc_window_display": false
  }
 },
 "nbformat": 4,
 "nbformat_minor": 1
}
