{
 "cells": [
  {
   "cell_type": "markdown",
   "metadata": {},
   "source": [
    "<center><strong>Sistem Temu Kembali Informasi</strong><br />\n",
    "<strong><font color=\"blue\">Semester Gasal T.A. 2020/2021</font></strong><br />\n",
    "</center>\n",
    "\n",
    "<strong>Outline pertemuan minggu ke-4</strong><br />\n",
    "<li> Word Embedding </li>"
   ]
  },
  {
   "cell_type": "markdown",
   "metadata": {},
   "source": [
    "### Word Embedding\n",
    "\n",
    "<p> Representasi dari teks ke dalam dense matriks. Term yang memiliki makna serupa berada pada jarak yang berdekatan pada ruang vektor </p>\n",
    "<p> VSM merepresentasikan teks ke dalam sparse matriks </p>\n",
    "<p> Sparse matriks memiliki ukuran yang besar dan memiliki banyak nilai 0 </p>\n",
    "<p> Dense matriks ukurannya lebih kecil, dapat diinisialisasi, dan tidak memiliki nilai 0 </p>\n",
    "<h2><img alt=\"\" src=\"figures/3_word_embeddings.png\" style=\"height: 296px ; width: 602px\" /></h2>"
   ]
  },
  {
   "cell_type": "markdown",
   "metadata": {},
   "source": [
    "#### Algoritma word embedding\n",
    "<ul>\n",
    "    <li> Skip-gram </li>\n",
    "    <li> CBoW (Continuous Bag of Words)</li>\n",
    "    <li> GloVe (Global Vector)</li>\n",
    "    <li> FastText </li>\n",
    "    <li> BERT (based on context) </li>\n",
    "</ul>"
   ]
  },
  {
   "cell_type": "markdown",
   "metadata": {},
   "source": [
    "#### Skip Gram dan CBoW\n",
    "<h2><img alt=\"\" src=\"figures/sg-cbow.png\"/></h2>\n",
    "\n",
    "<p> Dimana w(t) merupakan kata target dan w(t-n) - w(t+n) adalah konteks (kata yang berada disekitar kata target. n merupakan ukuran dari window size. Apabila n = 2 maka konteks didefinisikan sebagai 2 kata sebelum dan setelah kata target.</p>\n",
    "<p> Contoh: \"the big brown bear and the fox\"\n",
    "    <br>Apabila kata target adalah = \"brown\" dan n = 2 \n",
    "    <br>Maka: \n",
    "    <br>w(t) = \"brown\"\n",
    "    <br>w(t-2) = \"the\"\n",
    "    <br>w(t-1) = \"big\"\n",
    "    <br>w(t+1) = \"bear\"\n",
    "    <br>w(t+2) = \"and\"\n",
    "</p>\n",
    "    "
   ]
  },
  {
   "cell_type": "code",
   "execution_count": 2,
   "metadata": {},
   "outputs": [],
   "source": [
    "# download 3 categoies from 20newgroup dataset\n",
    "# save it as binary\n",
    "\n",
    "import os\n",
    "import pickle\n",
    "from sklearn.datasets import fetch_20newsgroups\n",
    "\n",
    "categories = ['sci.med', 'talk.politics.misc',  'rec.autos']\n",
    "data = fetch_20newsgroups(subset='train', categories=categories,remove=('headers', 'footers', 'quotes'))\n",
    "\n",
    "dst_name = \"20newsgroup.pckl\"\n",
    "dst_path = os.path.join(\"data\", dst_name)\n",
    "with open(dst_path, 'wb') as fout:\n",
    "    pickle.dump(data, fout)"
   ]
  },
  {
   "cell_type": "code",
   "execution_count": 3,
   "metadata": {},
   "outputs": [],
   "source": [
    "# loada data pickle\n",
    "with open(dst_path, 'rb') as fin:\n",
    "    data = pickle.load(fin)\n",
    "\n",
    "data = [doc for doc in data.data]"
   ]
  },
  {
   "cell_type": "code",
   "execution_count": 4,
   "metadata": {},
   "outputs": [
    {
     "data": {
      "text/plain": [
       "'\\nOk boys and girls,\\n\\n\"What was the \\'Ogadan War\\'????\"\\n\\nThe Money Raised in Band-Aid covered How Much of\\nthe Cost of Which Soviet Client State to replace what\\ncatagory of weapon system lost in the aforementioned war?\\n\\nWhy was the Joke: \"We arm the World.\" Really Not that funny?\\n\\nGonzo Station is the designation for WHICH USN Op Area?\\nand the primary threat targets in the Area Were:.....\\n\\nciao\\ndrieux\\n\\n\\n'"
      ]
     },
     "execution_count": 4,
     "metadata": {},
     "output_type": "execute_result"
    }
   ],
   "source": [
    "data[6]"
   ]
  },
  {
   "cell_type": "code",
   "execution_count": 5,
   "metadata": {},
   "outputs": [],
   "source": [
    "# preprocessing\n",
    "import re\n",
    "from nltk import sent_tokenize\n",
    "from nltk import word_tokenize\n",
    "\n",
    "def preprocess(doc):\n",
    "    sents = sent_tokenize(doc)\n",
    "    sents_tok = list() # tokenisasi kalimat\n",
    "    for s in sents:\n",
    "        s = s.strip().lower() # case folding dan menghilangkan new line\n",
    "        s = s.replace(\"\\n\", \" \") # menggantikan \\n dengan spasi\n",
    "        s = re.sub(r'[^a-zA-Z0-9 ]', ' ', s) # menghapus simbol\n",
    "        s = re.sub(' +', ' ', s) # menghapus repetitive space\n",
    "        \n",
    "        sents_tok.append(s)\n",
    "    \n",
    "    return \" \".join(sents_tok)\n",
    "\n",
    "docs = list()\n",
    "for d in data:\n",
    "    docs.append(preprocess(d))\n",
    "#docs"
   ]
  },
  {
   "cell_type": "code",
   "execution_count": 6,
   "metadata": {},
   "outputs": [],
   "source": [
    "# Untuk membentuk word embedding digunakan library Gensim\n",
    "# Format inputan dari Gensim adalah list of words untuk setiap kalimat\n",
    "# Contoh pada dokumen:\n",
    "#       Tiger is the biggest cat alive. The tigers species can be divided into 5 groups.\n",
    "# Inputan yang dibutuhkan Gensim adalah:\n",
    "#       [\"tiger\", \"is\", \"the\", \"biggest\", \"cat\", \"alive\"], [\"the\", \"tigers\", \"species\", \n",
    "#        \"can\", \"be\", \"devided\", \"into\", \"5\", \"groups\"]\n",
    "#\n",
    "doc_gensim = [word_tokenize(d) for d in docs]\n",
    "#print(doc_gensim)"
   ]
  },
  {
   "cell_type": "code",
   "execution_count": 7,
   "metadata": {},
   "outputs": [
    {
     "name": "stderr",
     "output_type": "stream",
     "text": [
      "C:\\Users\\Rizka\\Anaconda3\\envs\\python36\\lib\\site-packages\\gensim\\utils.py:1212: UserWarning: detected Windows; aliasing chunkize to chunkize_serial\n",
      "  warnings.warn(\"detected Windows; aliasing chunkize to chunkize_serial\")\n"
     ]
    },
    {
     "name": "stdout",
     "output_type": "stream",
     "text": [
      "DONE\n"
     ]
    }
   ],
   "source": [
    "# train skip-gram dengan library gensim\n",
    "#\n",
    "from gensim.models import Word2Vec\n",
    "\n",
    "d = 300\n",
    "model_sg = Word2Vec(doc_gensim, min_count=1, size=d, window=5, workers=-1,)\n",
    "print(\"DONE\")"
   ]
  },
  {
   "cell_type": "code",
   "execution_count": 8,
   "metadata": {},
   "outputs": [
    {
     "name": "stdout",
     "output_type": "stream",
     "text": [
      "DONE\n"
     ]
    }
   ],
   "source": [
    "import os\n",
    "\n",
    "model_path = os.path.join('model', 'model_sg.model')\n",
    "# model dari word embedding dapat disimpan dengan fungsi di bawah ini\n",
    "model_sg.save(model_path)\n",
    "\n",
    "# untuk menggunakan model yang telah disimpan sebelumnya dapat dilakukan\n",
    "# dengan memanfaatkan fungsi load, beberapa model membutuhkan waktu yang lama\n",
    "# karena memiliki ukuran yang besar\n",
    "model_sg_load = Word2Vec.load(model_path)\n",
    "\n",
    "print('DONE')\n"
   ]
  },
  {
   "cell_type": "markdown",
   "metadata": {},
   "source": [
    "#### Word2 Vec menggunakan matriks dense\n",
    "\n",
    "<p>Penggunaan memori oleh Gensim</p>\n",
    "<p>Jumlah kata x size x 12 bytes <br>\n",
    "    Contoh: <br>\n",
    "    Jika terdapat 100.000 kata unik dengan menggunakan dimensi embedding 200 <br>\n",
    "    Maka memori yang dibutuhkan = 100.000 x 200 x 12 bytes = ~229MB\n",
    "</p>"
   ]
  },
  {
   "cell_type": "code",
   "execution_count": 9,
   "metadata": {},
   "outputs": [
    {
     "data": {
      "text/plain": [
       "array([ 5.60016197e-04, -7.80494651e-04,  8.53844249e-05,  5.06553897e-06,\n",
       "        6.77944685e-04, -1.50504883e-03, -2.22184652e-04,  1.31922297e-03,\n",
       "        1.55192008e-03,  1.17945485e-03, -6.71928399e-04, -1.32007641e-04,\n",
       "        1.97516536e-04,  5.52323938e-04, -1.15502952e-03, -7.38360512e-04,\n",
       "       -1.40060426e-03,  1.04278733e-03,  5.50589466e-04,  7.50768872e-04,\n",
       "       -2.12674597e-04,  1.12611393e-03, -7.43451179e-04, -7.87006866e-05,\n",
       "       -3.39416030e-04, -1.35552240e-04, -9.09262890e-05,  1.57095736e-03,\n",
       "        4.25584498e-04, -9.79802455e-04,  1.45992637e-03,  1.18217918e-04,\n",
       "        1.46167702e-04,  1.43519649e-03,  1.15383952e-03,  6.28191163e-04,\n",
       "        5.27482189e-04,  7.87348486e-04,  8.05151125e-04,  1.25717488e-03,\n",
       "       -1.54108042e-03,  1.92914275e-04,  1.18085439e-03, -5.00844981e-05,\n",
       "        7.21530014e-05, -1.02488894e-03, -1.63354212e-03,  8.90475872e-04,\n",
       "       -1.09124882e-03,  6.49984344e-04,  1.26502695e-04, -1.31450966e-03,\n",
       "        8.30539444e-04, -1.60688255e-03, -1.50286977e-03, -1.28227309e-03,\n",
       "        1.55479123e-03,  7.07976636e-04, -1.45390967e-03,  1.31775090e-03,\n",
       "        1.55778509e-03,  6.95733819e-04,  5.17203880e-04, -8.56936327e-04,\n",
       "       -4.45751793e-04,  8.91625590e-04,  4.63761040e-04, -7.24555721e-05,\n",
       "       -1.35086407e-03, -7.36308168e-04, -6.65846979e-04, -5.42696100e-04,\n",
       "        7.28133193e-04,  6.36121840e-04,  4.42860561e-04,  1.36535513e-04,\n",
       "       -1.65968970e-03, -1.47441518e-03,  1.65217498e-03, -7.26177881e-04,\n",
       "        1.22604298e-03, -4.93316329e-04,  7.57286907e-04, -9.50888963e-04,\n",
       "       -4.22046724e-04, -3.37316218e-04,  5.33520419e-04,  1.73682449e-04,\n",
       "        1.06228353e-03,  8.36422201e-04, -1.52797124e-03,  3.29682749e-04,\n",
       "       -7.23507488e-04, -8.87522328e-05,  1.16140896e-03, -2.50842073e-04,\n",
       "       -1.35232415e-03, -6.20116771e-04, -8.08896948e-05, -8.62481596e-04,\n",
       "       -8.95761943e-04, -4.63894714e-04, -7.43860655e-05, -1.03851016e-04,\n",
       "       -1.53003202e-03,  1.29017758e-03,  2.02287381e-04, -8.56362458e-04,\n",
       "       -2.65245530e-04, -1.63296715e-03, -1.47141959e-03, -1.23590243e-03,\n",
       "        2.56247818e-04,  5.92195538e-05,  1.27907121e-03, -3.52197821e-04,\n",
       "        8.98954750e-04, -1.05281267e-03,  1.60813774e-03, -5.46477851e-04,\n",
       "        1.60733995e-03, -1.48614543e-03, -1.00324687e-03, -7.50715728e-04,\n",
       "        1.02074828e-03,  1.61981245e-03, -1.23957591e-03, -1.29136210e-03,\n",
       "       -2.36949141e-04, -2.77149666e-04,  1.17223465e-03,  8.58125859e-04,\n",
       "       -1.42569351e-03, -1.50910323e-03, -3.10538046e-04,  5.96073805e-04,\n",
       "       -3.02075176e-04, -7.90449325e-04, -1.22696871e-03,  5.89560193e-04,\n",
       "       -2.95846785e-05,  1.11529813e-03,  6.23947359e-04, -3.43764463e-04,\n",
       "        5.09615813e-04, -8.36908293e-04, -1.23197900e-03, -2.07112142e-04,\n",
       "        8.59405191e-05,  3.34542739e-04,  1.41320529e-03, -6.63584506e-04,\n",
       "        7.56518057e-05, -1.40171207e-03, -1.28167740e-03, -1.42912811e-03,\n",
       "        8.28651595e-04,  4.31226654e-04, -2.88159994e-04,  1.01583812e-03,\n",
       "       -7.30604574e-04,  4.54316440e-04, -9.97575698e-04, -4.96599823e-04,\n",
       "       -1.36922684e-03, -1.41431825e-04,  1.59163645e-03,  4.19998862e-04,\n",
       "       -1.58983120e-03,  5.47716161e-04, -9.66541629e-05, -1.66108087e-03,\n",
       "       -1.26072532e-03, -1.37963018e-03, -7.86009827e-04,  1.60493446e-03,\n",
       "        1.60206144e-03, -7.63427233e-04, -1.71985186e-04, -1.16970565e-03,\n",
       "        7.86998135e-04, -9.33425792e-04,  2.35260159e-04, -1.09486561e-03,\n",
       "       -1.61234508e-04, -9.06131936e-06,  1.14591303e-03,  8.19777779e-04,\n",
       "       -1.27267104e-03,  1.06607750e-03, -5.16528635e-05, -5.59363689e-04,\n",
       "       -1.24431332e-03,  2.40552108e-04,  6.70448469e-04, -9.25166067e-04,\n",
       "       -1.09981431e-03, -5.74742444e-04,  7.15460395e-04,  3.91563692e-04,\n",
       "       -1.01314066e-03,  1.24943873e-03, -1.47928309e-03, -1.05255145e-04,\n",
       "        1.65218778e-03, -3.13935278e-04, -2.67707015e-04,  7.63677759e-04,\n",
       "        3.57294630e-04, -1.10256590e-03, -1.22643204e-03, -1.06774434e-03,\n",
       "       -1.13032165e-03, -1.05869141e-03,  7.76908419e-04, -1.37638825e-03,\n",
       "       -1.56110676e-03, -3.15787009e-04, -1.38804549e-03, -1.02846150e-03,\n",
       "       -1.03431533e-03,  1.64459448e-03,  1.33908750e-03, -1.45658513e-03,\n",
       "       -1.18090876e-03,  1.81930489e-04,  3.03407374e-04,  6.70184905e-04,\n",
       "       -1.19588012e-03, -1.44876773e-03, -1.47043756e-04, -3.97070180e-05,\n",
       "       -3.71880538e-04, -3.34221724e-04, -2.83347006e-04, -7.65561941e-04,\n",
       "        5.51786157e-04, -5.75122715e-04,  1.11967779e-03,  4.72624670e-04,\n",
       "       -2.73547339e-04, -2.52988044e-04,  7.68201935e-05,  6.54998003e-04,\n",
       "        4.17967531e-04,  1.51359942e-03, -1.31957419e-03, -4.40598349e-04,\n",
       "       -1.00158842e-03,  4.86829289e-04, -9.90433036e-05, -1.16755231e-03,\n",
       "       -1.31963484e-03,  1.21530134e-03,  1.08586752e-03,  5.66349481e-04,\n",
       "       -5.70835371e-04,  4.11139510e-04, -3.21767264e-04, -3.52851872e-04,\n",
       "        8.31475947e-04, -1.62377534e-03, -1.31548662e-03, -9.89505323e-04,\n",
       "       -1.51596556e-03,  1.54600549e-03,  1.12360402e-03, -5.52856654e-04,\n",
       "        1.56557921e-03,  1.22536405e-03, -3.31756717e-04, -1.53270946e-03,\n",
       "       -1.31986907e-03,  7.77525071e-04,  7.93903775e-04, -1.60627114e-03,\n",
       "       -8.25696916e-04, -2.37503118e-04, -9.22772451e-04, -8.75123718e-04,\n",
       "        6.50302740e-04, -5.73230325e-04,  8.33311176e-04,  3.56628851e-04,\n",
       "        5.19120018e-04,  1.44333532e-03,  8.82924418e-04,  4.82565461e-04,\n",
       "        4.78122529e-04, -1.84064673e-04,  1.39732822e-03, -7.43672368e-04,\n",
       "       -1.01022737e-03,  5.22006478e-04,  1.51817536e-03, -4.46671416e-04,\n",
       "        9.08856746e-05,  2.44623283e-04,  3.52610368e-04,  4.95900400e-04],\n",
       "      dtype=float32)"
      ]
     },
     "execution_count": 9,
     "metadata": {},
     "output_type": "execute_result"
    }
   ],
   "source": [
    "# Melihat vektor suatu kata\n",
    "model_sg.wv['car']"
   ]
  },
  {
   "cell_type": "code",
   "execution_count": 10,
   "metadata": {},
   "outputs": [
    {
     "name": "stderr",
     "output_type": "stream",
     "text": [
      "C:\\Users\\Rizka\\Anaconda3\\envs\\python36\\lib\\site-packages\\gensim\\matutils.py:737: FutureWarning: Conversion of the second argument of issubdtype from `int` to `np.signedinteger` is deprecated. In future, it will be treated as `np.int32 == np.dtype(int).type`.\n",
      "  if np.issubdtype(vec.dtype, np.int):\n"
     ]
    },
    {
     "data": {
      "text/plain": [
       "1.0"
      ]
     },
     "execution_count": 10,
     "metadata": {},
     "output_type": "execute_result"
    }
   ],
   "source": [
    "# Menghitung similarity vektor antar kata\n",
    "\n",
    "model_sg.wv.similarity('car', 'car')"
   ]
  },
  {
   "cell_type": "code",
   "execution_count": 23,
   "metadata": {},
   "outputs": [
    {
     "name": "stderr",
     "output_type": "stream",
     "text": [
      "C:\\Users\\Rizka\\Anaconda3\\envs\\python36\\lib\\site-packages\\gensim\\matutils.py:737: FutureWarning: Conversion of the second argument of issubdtype from `int` to `np.signedinteger` is deprecated. In future, it will be treated as `np.int32 == np.dtype(int).type`.\n",
      "  if np.issubdtype(vec.dtype, np.int):\n"
     ]
    },
    {
     "data": {
      "text/plain": [
       "[('controversy', 0.2052428126335144),\n",
       " ('line', 0.20026910305023193),\n",
       " ('sox', 0.19885006546974182),\n",
       " ('textbook', 0.19850188493728638),\n",
       " ('amc', 0.19668230414390564),\n",
       " ('doses', 0.19454580545425415),\n",
       " ('heard', 0.19357556104660034),\n",
       " ('tons', 0.19148902595043182),\n",
       " ('panther', 0.1892298460006714),\n",
       " ('advisers', 0.18916377425193787)]"
      ]
     },
     "execution_count": 23,
     "metadata": {},
     "output_type": "execute_result"
    }
   ],
   "source": [
    "#  Menampilkan top-N similar words\n",
    "\n",
    "model_sg.wv.similar_by_word('car', topn=10)"
   ]
  },
  {
   "cell_type": "code",
   "execution_count": null,
   "metadata": {},
   "outputs": [],
   "source": []
  },
  {
   "cell_type": "code",
   "execution_count": 22,
   "metadata": {},
   "outputs": [
    {
     "name": "stderr",
     "output_type": "stream",
     "text": [
      "C:\\Users\\Rizka\\Anaconda3\\envs\\python36\\lib\\site-packages\\gensim\\matutils.py:737: FutureWarning: Conversion of the second argument of issubdtype from `int` to `np.signedinteger` is deprecated. In future, it will be treated as `np.int32 == np.dtype(int).type`.\n",
      "  if np.issubdtype(vec.dtype, np.int):\n"
     ]
    },
    {
     "data": {
      "text/plain": [
       "[('directing', 0.21145768463611603),\n",
       " ('trigger', 0.20305946469306946),\n",
       " ('implementing', 0.20233061909675598),\n",
       " ('miazawa', 0.19904084503650665),\n",
       " ('19104', 0.19754955172538757),\n",
       " ('rx', 0.19124704599380493),\n",
       " ('72', 0.19081518054008484),\n",
       " ('ununsual', 0.18937884271144867),\n",
       " ('doubts', 0.18880492448806763),\n",
       " ('chit', 0.18676556646823883)]"
      ]
     },
     "execution_count": 22,
     "metadata": {},
     "output_type": "execute_result"
    }
   ],
   "source": [
    "# Mencari yang paling mirip dengan kata 'cars'\n",
    "model_sg.wv.most_similar('cars')"
   ]
  },
  {
   "cell_type": "markdown",
   "metadata": {},
   "source": [
    "<p><img alt=\"\" src=\"figures/3_cosine.png\" style=\"height:400px; width:683px\" /></p>"
   ]
  },
  {
   "cell_type": "code",
   "execution_count": 16,
   "metadata": {},
   "outputs": [
    {
     "name": "stdout",
     "output_type": "stream",
     "text": [
      "error! kata \" entir \" tidak ada di training data\n"
     ]
    }
   ],
   "source": [
    "# error jika kata tidak ada di training data\n",
    "\n",
    "kata = 'entir'\n",
    "try:\n",
    "    print(model_sg.wv.most_similar(kata))\n",
    "except:\n",
    "    print('error! kata \"',kata,'\" tidak ada di training data')"
   ]
  },
  {
   "cell_type": "markdown",
   "metadata": {},
   "source": [
    "### Note: ###\n",
    "<ul>\n",
    "    <li> Pada word2vec apabila suatu kata tidak terdapat dalam list vocabulary maka akan error </li>\n",
    "    <li> Kesalahan pengetikan (typo) bisa meninmbulkan error </li>\n",
    "    <li> Untuk mangatasi hal ini dapat dilakukan dengan menggunakan algoritma lain, seperti FastText </li>"
   ]
  },
  {
   "cell_type": "code",
   "execution_count": 19,
   "metadata": {},
   "outputs": [
    {
     "name": "stdout",
     "output_type": "stream",
     "text": [
      "[('intrigues', 4.4517652e-05), ('enduring', 4.4517652e-05), ('cardinal', 4.4517652e-05), ('shirer', 4.4517652e-05), ('chancellors', 4.4517652e-05), ('undermining', 4.4517652e-05), ('waning', 4.4517652e-05), ('strasser', 4.4517652e-05), ('schleicher', 4.4517652e-05), ('unite', 4.4517652e-05)]\n"
     ]
    }
   ],
   "source": [
    "# \"predict\" vector for new data without re-training from the beginning\n",
    "d1 = ['new','generation','nvidia','gpu','is','rtx']\n",
    "d2 = ['deep','learning','computation','mostly', 'on', 'gpu']\n",
    "d3 = ['the','rtx','gpu','capable','super','sampling','ssdl']\n",
    "D = [d1,d2,d3]\n",
    "model_sg.train(D, total_examples=len(D), epochs=model_sg.epochs)\n",
    "print(model_sg.predict_output_word('gpu'))"
   ]
  },
  {
   "cell_type": "markdown",
   "metadata": {},
   "source": [
    "<h3 id=\"Latihan:\"><font color=\"blue\">Latihan 1:</font></h3>\n",
    "\n",
    "<ul> \n",
    "    <li> Bangunlah word embedding dengan data 3 kategori lainnya dari data 20newsGroup</li>\n",
    "    <li> Lakukan training menggunakan Skip-Gram dan CBoW </li>\n",
    "    <li> Apakah vektor yang dihasilkan oleh suatu kata sama? ketika menggunakan Skip-Gram dan CBoW </li>\n",
    "    <li> Apakah hasil top-n similar memperoleh vocabulary yang sama? </li>\n",
    "    <li> Apakah jumlah dimensi berpengaruh pada hasil top-n most similar? </li>"
   ]
  },
  {
   "cell_type": "code",
   "execution_count": null,
   "metadata": {},
   "outputs": [],
   "source": [
    "# Kerjakan latihan 1 pada cell berikut ini\n"
   ]
  },
  {
   "cell_type": "markdown",
   "metadata": {},
   "source": [
    "## FastText (Facebook-2016)##\n",
    "<ul>\n",
    "    <li> Menggunakan Sub-words: app, ppl, ple - apple, sehingga dapat mengatasi permasalahan typo atau tidak adanya suatu kata dalam vocabularies </li>\n",
    "    <li> Paper: https://arxiv.org/abs/1607.04606  </li>\n",
    "    <li> Website: https://fasttext.cc/ </li>\n",
    "    <li> Source: https://github.com/facebookresearch/fastText </li>\n",
    "</ul>"
   ]
  },
  {
   "cell_type": "code",
   "execution_count": 20,
   "metadata": {},
   "outputs": [
    {
     "data": {
      "text/plain": [
       "'Done'"
      ]
     },
     "execution_count": 20,
     "metadata": {},
     "output_type": "execute_result"
    }
   ],
   "source": [
    "from gensim.models import FastText\n",
    "\n",
    "dim = 300 # Jumlah neurons = ukuran vektor = jumlah kolom\n",
    "model_ft = FastText(doc_gensim, size=dim, window=5, min_count=2, workers=-1)\n",
    "'Done'"
   ]
  },
  {
   "cell_type": "code",
   "execution_count": 24,
   "metadata": {},
   "outputs": [
    {
     "name": "stderr",
     "output_type": "stream",
     "text": [
      "C:\\Users\\Rizka\\Anaconda3\\envs\\python36\\lib\\site-packages\\gensim\\matutils.py:737: FutureWarning: Conversion of the second argument of issubdtype from `int` to `np.signedinteger` is deprecated. In future, it will be treated as `np.int32 == np.dtype(int).type`.\n",
      "  if np.issubdtype(vec.dtype, np.int):\n"
     ]
    },
    {
     "data": {
      "text/plain": [
       "[('carb', 0.41024261713027954),\n",
       " ('carbon', 0.38731497526168823),\n",
       " ('carbs', 0.38285455107688904),\n",
       " ('care', 0.37935227155685425),\n",
       " ('carl', 0.3629686236381531),\n",
       " ('card', 0.3505946099758148),\n",
       " ('cars', 0.34071898460388184),\n",
       " ('carlos', 0.3346530497074127),\n",
       " ('career', 0.3300458788871765),\n",
       " ('carter', 0.31315213441848755)]"
      ]
     },
     "execution_count": 24,
     "metadata": {},
     "output_type": "execute_result"
    }
   ],
   "source": [
    "#  Menampilkan top-N similar words\n",
    "\n",
    "model_ft.wv.similar_by_word('car', topn=10)"
   ]
  },
  {
   "cell_type": "code",
   "execution_count": 21,
   "metadata": {},
   "outputs": [
    {
     "name": "stderr",
     "output_type": "stream",
     "text": [
      "C:\\Users\\Rizka\\Anaconda3\\envs\\python36\\lib\\site-packages\\gensim\\matutils.py:737: FutureWarning: Conversion of the second argument of issubdtype from `int` to `np.signedinteger` is deprecated. In future, it will be treated as `np.int32 == np.dtype(int).type`.\n",
      "  if np.issubdtype(vec.dtype, np.int):\n"
     ]
    },
    {
     "data": {
      "text/plain": [
       "[('carbs', 0.3426836133003235),\n",
       " ('car', 0.34071898460388184),\n",
       " ('cardiac', 0.3207300901412964),\n",
       " ('card', 0.3046035170555115),\n",
       " ('carb', 0.3021414875984192),\n",
       " ('care', 0.2941848039627075),\n",
       " ('carried', 0.2819857895374298),\n",
       " ('carry', 0.27728378772735596),\n",
       " ('carriers', 0.27277398109436035),\n",
       " ('carlos', 0.2711375057697296)]"
      ]
     },
     "execution_count": 21,
     "metadata": {},
     "output_type": "execute_result"
    }
   ],
   "source": [
    "# Mencari yang paling mirip dengan kata 'cars'\n",
    "model_ft.wv.most_similar('cars')"
   ]
  },
  {
   "cell_type": "code",
   "execution_count": 27,
   "metadata": {},
   "outputs": [
    {
     "name": "stdout",
     "output_type": "stream",
     "text": [
      "0.34071898\n",
      "0.013699394\n"
     ]
    },
    {
     "name": "stderr",
     "output_type": "stream",
     "text": [
      "C:\\Users\\Rizka\\Anaconda3\\envs\\python36\\lib\\site-packages\\gensim\\matutils.py:737: FutureWarning: Conversion of the second argument of issubdtype from `int` to `np.signedinteger` is deprecated. In future, it will be treated as `np.int32 == np.dtype(int).type`.\n",
      "  if np.issubdtype(vec.dtype, np.int):\n"
     ]
    }
   ],
   "source": [
    "# Melihat similarity antar kata\n",
    "\n",
    "print(model_ft.wv.similarity('cars', 'car'))\n",
    "print(model_sg.wv.similarity('cars', 'car'))"
   ]
  },
  {
   "cell_type": "code",
   "execution_count": 28,
   "metadata": {},
   "outputs": [
    {
     "name": "stdout",
     "output_type": "stream",
     "text": [
      "[('germans', 0.36002957820892334), ('humans', 0.3300623595714569), ('plans', 0.2815879285335541), ('lemans', 0.27253299951553345), ('canadians', 0.2638093829154968), ('organs', 0.263003408908844), ('fans', 0.25659996271133423), ('means', 0.23399443924427032), ('cans', 0.2265084683895111), ('becoming', 0.2197355329990387)]\n"
     ]
    },
    {
     "name": "stderr",
     "output_type": "stream",
     "text": [
      "C:\\Users\\Rizka\\Anaconda3\\envs\\python36\\lib\\site-packages\\gensim\\matutils.py:737: FutureWarning: Conversion of the second argument of issubdtype from `int` to `np.signedinteger` is deprecated. In future, it will be treated as `np.int32 == np.dtype(int).type`.\n",
      "  if np.issubdtype(vec.dtype, np.int):\n"
     ]
    }
   ],
   "source": [
    "# Tidak error jika kata tidak ada di training data\n",
    "\n",
    "kata = 'beckmans'\n",
    "try:\n",
    "    print(model_ft.wv.most_similar(kata))\n",
    "except:\n",
    "    print('error! kata \"',kata,'\" tidak ada di training data')\n",
    "    \n",
    "\n",
    "# Tidak terjadi error saat kata tidak terdapat pada vocabulary"
   ]
  },
  {
   "cell_type": "markdown",
   "metadata": {},
   "source": [
    "<h3 id=\"Latihan:\"><font color=\"blue\">Latihan 2:</font></h3>\n",
    "\n",
    "<ul>\n",
    "\t<li>Apakah kelebihan dan kekurangan WE secara umum?</li>\n",
    "\t<li>Apakah kira-kira aplikasi yang dapat memanfaatkan WE?</li>\n",
    "\t<li>Apakah bisa dijadikan representasi dokumen? Bagaimana caranya?</li>\n",
    "\t<li>Bergantung pada apa sajakah performa model WE?</li>\n",
    "</ul>\n",
    "\n",
    "* Preprocessing apa yang sebaiknya dilakukan pada model Word Embedding?\n",
    "* Apakah Pos Tag bermanfaat disini? Jika iya bagaimana menggunakannya?"
   ]
  },
  {
   "cell_type": "code",
   "execution_count": null,
   "metadata": {},
   "outputs": [],
   "source": [
    "# Kerjakan latihan 2 pada cell berikut ini\n"
   ]
  }
 ],
 "metadata": {
  "celltoolbar": "Slideshow",
  "kernelspec": {
   "display_name": "Python 3",
   "language": "python",
   "name": "python3"
  },
  "language_info": {
   "codemirror_mode": {
    "name": "ipython",
    "version": 3
   },
   "file_extension": ".py",
   "mimetype": "text/x-python",
   "name": "python",
   "nbconvert_exporter": "python",
   "pygments_lexer": "ipython3",
   "version": "3.6.6"
  }
 },
 "nbformat": 4,
 "nbformat_minor": 2
}
